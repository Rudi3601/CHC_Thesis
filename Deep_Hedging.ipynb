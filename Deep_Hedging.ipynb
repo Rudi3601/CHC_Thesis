{
  "nbformat": 4,
  "nbformat_minor": 0,
  "metadata": {
    "colab": {
      "provenance": [],
      "authorship_tag": "ABX9TyO3Noo8JdC8YQ1FL6FMa4SC",
      "include_colab_link": true
    },
    "kernelspec": {
      "name": "python3",
      "display_name": "Python 3"
    },
    "language_info": {
      "name": "python"
    }
  },
  "cells": [
    {
      "cell_type": "markdown",
      "metadata": {
        "id": "view-in-github",
        "colab_type": "text"
      },
      "source": [
        "<a href=\"https://colab.research.google.com/github/Rudi3601/CHC_Thesis/blob/main/Deep_Hedging.ipynb\" target=\"_parent\"><img src=\"https://colab.research.google.com/assets/colab-badge.svg\" alt=\"Open In Colab\"/></a>"
      ]
    },
    {
      "cell_type": "markdown",
      "source": [
        "Importing Libraries"
      ],
      "metadata": {
        "id": "b4wt3oV1E0mb"
      }
    },
    {
      "cell_type": "code",
      "source": [
        "#%tensorflow_version 1.x\n",
        "import numpy as np\n",
        "import tensorflow as tf\n",
        "\n",
        "from keras.models import Sequential\n",
        "from keras.layers import Input, Dense, Conv2D, Concatenate, Dropout, Subtract, \\\n",
        "                        Flatten, MaxPooling2D, Multiply, Lambda, Add, Dot\n",
        "from keras.backend import constant\n",
        "from keras import optimizers\n",
        "\n",
        "#from keras.engine.topology import Layer\n",
        "from keras.models import Model\n",
        "from keras.layers import Input\n",
        "from keras import initializers\n",
        "from keras.constraints import max_norm\n",
        "import keras.backend as K\n",
        "\n",
        "import matplotlib.pyplot as plt\n",
        "\n",
        "import copy"
      ],
      "metadata": {
        "id": "NGlLhO3bEz3j"
      },
      "execution_count": 1,
      "outputs": []
    },
    {
      "cell_type": "markdown",
      "source": [
        "Initializing parameters"
      ],
      "metadata": {
        "id": "5Z_Nag5vLY5m"
      }
    },
    {
      "cell_type": "code",
      "execution_count": 2,
      "metadata": {
        "id": "JNVCCOgxstvk"
      },
      "outputs": [],
      "source": [
        "N=100 # time disrectization\n",
        "S0=1 # initial value of the asset\n",
        "T=1 # maturity\n",
        "strike = 1.0 # f(S)=(S-1)_+ European Call Contract\n",
        "sigma=0.2 # volatility in Black Scholes"
      ]
    },
    {
      "cell_type": "markdown",
      "source": [
        "Black-Scholes Model:"
      ],
      "metadata": {
        "id": "RDF7feUVEyWt"
      }
    },
    {
      "cell_type": "code",
      "source": [
        "import scipy.stats as scipy\n",
        "from scipy.stats import norm\n",
        "\n",
        "#Blackscholes price\n",
        "\n",
        "def BS(S0, strike, T, sigma):\n",
        "    return S0*scipy.norm.cdf((np.log(S0/strike)+0.5*T*sigma**2)/(np.sqrt(T)*sigma))-strike*scipy.norm.cdf((np.log(S0/strike)-0.5*T*sigma**2)/(np.sqrt(T)*sigma))\n",
        "\n",
        "priceBS=BS(S0,strike,T,sigma)\n",
        "print('Price of a Call option in the Black scholes model with initial price', S0, 'strike', strike, 'maturity', T , 'and volatility' , sigma, 'is equal to', BS(S0,strike,T,sigma))"
      ],
      "metadata": {
        "colab": {
          "base_uri": "https://localhost:8080/"
        },
        "id": "T0tZMkG3LiBu",
        "outputId": "95423404-ddc3-434f-8247-1170ad2dce0b"
      },
      "execution_count": 3,
      "outputs": [
        {
          "output_type": "stream",
          "name": "stdout",
          "text": [
            "Price of a Call option in the Black scholes model with initial price 1 strike 1.0 maturity 1 and volatility 0.2 is equal to 0.07965567455405798\n"
          ]
        }
      ]
    },
    {
      "cell_type": "markdown",
      "source": [
        "Definition of NN:"
      ],
      "metadata": {
        "id": "BGPCXZimL20r"
      }
    },
    {
      "cell_type": "code",
      "source": [
        "#Definition of neural networks for heding strategies\n",
        "\n",
        "m = 1 # dimension of price\n",
        "d = 3 # number of layers in strategy\n",
        "n = 32  # nodes in the first but last layers\n",
        "\n",
        "# architecture is the same for all networks\n",
        "layers = []\n",
        "for j in range(N):\n",
        "    for i in range(d):\n",
        "        if i < d-1:\n",
        "            nodes = n\n",
        "            layer = Dense(nodes, activation='tanh',trainable=True,\n",
        "                      kernel_initializer=initializers.RandomNormal(0,1),#kernel_initializer='random_normal',\n",
        "                      bias_initializer='random_normal',\n",
        "                      name=str(i)+str(j))\n",
        "        else:\n",
        "            nodes = m\n",
        "            layer = Dense(nodes, activation='linear', trainable=True,\n",
        "                          kernel_initializer=initializers.RandomNormal(0,0.1),#kernel_initializer='random_normal',\n",
        "                          bias_initializer='random_normal',\n",
        "                          name=str(i)+str(j))\n",
        "        layers = layers + [layer]"
      ],
      "metadata": {
        "id": "TiCbZ96BL8-h"
      },
      "execution_count": 4,
      "outputs": []
    },
    {
      "cell_type": "code",
      "source": [
        "#Implementing the loss function\n",
        "# Inputs is the training set below, containing the price S0,\n",
        "#the initial hedging being 0, and the increments of the log price process\n",
        "price = Input(shape=(m,))\n",
        "hedge = Input(shape=(m,))\n",
        "hedgeeval = Input(shape=(m,))\n",
        "premium = Input(shape=(m,))\n",
        "\n",
        "inputs = [price]+[hedge]+[hedgeeval]+[premium]\n",
        "outputhelper=[]\n",
        "\n",
        "premium = Dense(m, activation='linear', trainable=True,\n",
        "                kernel_initializer=initializers.RandomNormal(0,1),#kernel_initializer='random_normal',\n",
        "                bias_initializer=initializers.RandomNormal(0,1))(premium)\n",
        "\n",
        "for j in range(N):\n",
        "    strategy = price\n",
        "    strategyeval=hedgeeval\n",
        "    for k in range(d):\n",
        "        strategy= layers[k+(j)*d](strategy) # strategy at j is the hedging strategy at j , i.e. the neural network g_j\n",
        "        strategyeval=layers[k+(j)*d](strategyeval)\n",
        "    incr = Input(shape=(m,))\n",
        "    logprice= Lambda(lambda x : K.log(x))(price)\n",
        "    logprice = Add()([logprice, incr])\n",
        "    pricenew=Lambda(lambda x : K.exp(x))(logprice)# creating the price at time j+1\n",
        "    priceincr=Subtract()([pricenew, price])\n",
        "    hedgenew = Multiply()([strategy, priceincr])\n",
        "    #mult = Lambda(lambda x : K.sum(x,axis=1))(mult) # this is only used for m > 1\n",
        "    hedge = Add()([hedge,hedgenew]) # building up the discretized stochastic integral\n",
        "    inputs = inputs + [incr]\n",
        "    outputhelper = outputhelper + [strategyeval]\n",
        "    price=pricenew\n",
        "payoff= Lambda(lambda x : 0.5*(K.abs(x-strike)+x-strike))(price)\n",
        "outputs = Subtract()([payoff,hedge])\n",
        "outputs = Subtract()([outputs,premium]) # payoff minus price minus hedge\n",
        "outputs= [outputs] + outputhelper +[premium]\n",
        "outputs = Concatenate()(outputs)\n",
        "\n",
        "model_hedge_strat = Model(inputs=inputs, outputs=outputs)"
      ],
      "metadata": {
        "id": "biauul5QMAyI"
      },
      "execution_count": 5,
      "outputs": []
    },
    {
      "cell_type": "markdown",
      "source": [
        "For Red-Nodes:"
      ],
      "metadata": {
        "id": "bT3t3gcpMVWJ"
      }
    },
    {
      "cell_type": "code",
      "source": [
        "R=50 # reduction\n",
        "# architecture is the same for all networks\n",
        "layers_red = []\n",
        "for j in range(R):\n",
        "    for i in range(d):\n",
        "        if i < d-1:\n",
        "            nodes_red = n\n",
        "            layer_red = Dense(nodes_red, activation='tanh',trainable=True,\n",
        "                      kernel_initializer=initializers.RandomNormal(0,1),#kernel_initializer='random_normal',\n",
        "                      bias_initializer='random_normal',\n",
        "                      name=str(i)+str(j))\n",
        "        else:\n",
        "            nodes_red = m\n",
        "            layer_red = Dense(nodes_red, activation='linear', trainable=True,\n",
        "                          kernel_initializer=initializers.RandomNormal(0,0.1),#kernel_initializer='random_normal',\n",
        "                          bias_initializer='random_normal',\n",
        "                          name=str(i)+str(j))\n",
        "        layers_red = layers_red + [layer_red]\n",
        "\n",
        "for j in range(R,N):\n",
        "    for i in range(d):\n",
        "        if i < d-1:\n",
        "            nodes_red = n\n",
        "            layer_red = Dense(nodes_red, activation='tanh',trainable=False,\n",
        "                      kernel_initializer=initializers.RandomNormal(0,1),#kernel_initializer='random_normal',\n",
        "                      bias_initializer='random_normal',\n",
        "                      name=str(i)+str(j))\n",
        "        else:\n",
        "            nodes_red = m\n",
        "            layer_red = Dense(nodes_red, activation='linear', trainable=False,\n",
        "                          kernel_initializer=initializers.RandomNormal(0,0.1),#kernel_initializer='random_normal',\n",
        "                          bias_initializer='random_normal',\n",
        "                          name=str(i)+str(j))\n",
        "        layers_red = layers_red + [layer_red]"
      ],
      "metadata": {
        "id": "3byi8Y_AMSgb"
      },
      "execution_count": 6,
      "outputs": []
    },
    {
      "cell_type": "code",
      "source": [
        "#Implementing the loss function\n",
        "# Inputs is the training set below, containing the price S0,\n",
        "#the initial hedging being 0, and the increments of the log price process\n",
        "price_red = Input(shape=(m,))\n",
        "hedge_red = Input(shape=(m,))\n",
        "hedgeeval_red = Input(shape=(m,))\n",
        "premium_red = Input(shape=(m,))\n",
        "\n",
        "inputs_red = [price_red]+[hedge_red]+[hedgeeval_red]+[premium_red]\n",
        "outputhelper_red=[]\n",
        "\n",
        "premium_red = Dense(m, activation='linear', trainable=True,\n",
        "                kernel_initializer=initializers.RandomNormal(0,1),#kernel_initializer='random_normal',\n",
        "                bias_initializer=initializers.RandomNormal(0,1))(premium_red)\n",
        "\n",
        "for j in range(N):\n",
        "    strategy_red = price_red\n",
        "    strategyeval_red=hedgeeval_red\n",
        "    for k in range(d):\n",
        "        strategy_red= layers_red[k+(j)*d](strategy_red) # strategy at j is the hedging strategy at j , i.e. the neural network g_j\n",
        "        strategyeval_red=layers_red[k+(j)*d](strategyeval_red)\n",
        "    incr_red = Input(shape=(m,))\n",
        "    logprice_red= Lambda(lambda x : K.log(x))(price_red)\n",
        "    logprice_red = Add()([logprice_red, incr_red])\n",
        "    pricenew_red=Lambda(lambda x : K.exp(x))(logprice_red)# creating the price at time j+1\n",
        "    priceincr_red=Subtract()([pricenew_red, price_red])\n",
        "    hedgenew_red = Multiply()([strategy_red, priceincr_red])\n",
        "    #mult = Lambda(lambda x : K.sum(x,axis=1))(mult) # this is only used for m > 1\n",
        "    hedge_red = Add()([hedge_red,hedgenew_red]) # building up the discretized stochastic integral\n",
        "    inputs_red = inputs_red + [incr_red]\n",
        "    outputhelper_red = outputhelper_red + [strategyeval_red]\n",
        "    price_red=pricenew_red\n",
        "payoff_red= Lambda(lambda x : 0.5*(K.abs(x-strike)+x-strike))(price_red)\n",
        "outputs_red = Subtract()([payoff_red,hedge_red])\n",
        "outputs_red = Subtract()([outputs_red,premium_red]) # payoff minus price minus hedge\n",
        "outputs_red= [outputs_red] + outputhelper_red +[premium_red]\n",
        "outputs_red = Concatenate()(outputs_red)\n",
        "\n",
        "model_hedge_strat_red = Model(inputs=inputs_red, outputs=outputs_red)"
      ],
      "metadata": {
        "id": "SEA0DKrIMY-K"
      },
      "execution_count": 7,
      "outputs": []
    },
    {
      "cell_type": "code",
      "source": [
        "gamma = 1.0\n",
        "grid = [(i/N)**gamma*T for i in range(N+1)]\n",
        "\n",
        "Ktrain = 10**5\n",
        "initialprice = S0\n",
        "\n",
        "# xtrain consists of the price S0,\n",
        "#the initial hedging being 0, and the increments of the log price process\n",
        "xtrain = ([initialprice*np.ones((Ktrain,m))] +\n",
        "          [np.zeros((Ktrain,m))]+\n",
        "          [np.ones((Ktrain,m))] +\n",
        "          [priceBS*np.ones((Ktrain,m))]+\n",
        "          [np.random.normal(-(sigma)**2/2*(grid[i+1]-grid[i]),sigma*np.sqrt(grid[i+1]-grid[i]),(Ktrain,m)) for i in range(N)])\n",
        "\n",
        "ytrain=np.zeros((Ktrain,1+N))"
      ],
      "metadata": {
        "id": "D2IhqtKaMg78"
      },
      "execution_count": 8,
      "outputs": []
    },
    {
      "cell_type": "code",
      "source": [
        "N_red=1000\n",
        "xtrain_red=copy.deepcopy(xtrain)\n",
        "for i in range(R):\n",
        "    a = xtrain_red[4+i]\n",
        "    for k in range(int(Ktrain/N_red)):\n",
        "        for l in range(N_red):\n",
        "            a[k*N_red+l,:]=a[k*N_red,:]\n",
        "    xtrain_red[4+i]=a"
      ],
      "metadata": {
        "id": "iv8Dz1F4Mhfq"
      },
      "execution_count": 9,
      "outputs": []
    },
    {
      "cell_type": "code",
      "source": [
        "#import keras\n",
        "from keras import losses\n",
        "def custom_loss(y_true,y_pred):\n",
        "    #return losses.mean_squared_error(y_true[0], y_pred[0])\n",
        "    z = y_pred[:,0]-y_true[:,0]\n",
        "    z=K.mean(K.square(z))\n",
        "    return z"
      ],
      "metadata": {
        "id": "KK2_D3OXMkyj"
      },
      "execution_count": 10,
      "outputs": []
    },
    {
      "cell_type": "code",
      "source": [
        "model_hedge_strat.compile(optimizer='adam',loss=custom_loss)\n",
        "model_hedge_strat_red.compile(optimizer='adam',loss=custom_loss)"
      ],
      "metadata": {
        "id": "p78Kh50vMlZW"
      },
      "execution_count": 11,
      "outputs": []
    },
    {
      "cell_type": "code",
      "source": [
        "import matplotlib.pyplot as plt\n",
        "\n",
        "for i in range(5):\n",
        "    model_hedge_strat.fit(x=xtrain,y=ytrain, epochs=1,verbose=True,batch_size=100)\n",
        "weights = model_hedge_strat.get_weights()\n",
        "model_hedge_strat_red.set_weights(weights)\n",
        "#for i in range(5):\n",
        "#    model_hedge_strat_red.fit(x=xtrain_red,y=ytrain, epochs=1,verbose=True,batch_size=10000)\n",
        "#weights = model_hedge_strat_red.get_weights()\n",
        "#model_hedge_strat.set_weights(weights)"
      ],
      "metadata": {
        "colab": {
          "base_uri": "https://localhost:8080/"
        },
        "id": "ZJ-MOooDMohr",
        "outputId": "ded99d59-1fc8-43fc-b559-53fb7a96a80c"
      },
      "execution_count": 12,
      "outputs": [
        {
          "output_type": "stream",
          "name": "stdout",
          "text": [
            "1000/1000 [==============================] - 123s 55ms/step - loss: 0.0028\n",
            "1000/1000 [==============================] - 52s 52ms/step - loss: 3.9320e-04\n",
            "1000/1000 [==============================] - 54s 54ms/step - loss: 2.8711e-04\n",
            "1000/1000 [==============================] - 53s 53ms/step - loss: 2.1084e-04\n",
            "1000/1000 [==============================] - 52s 52ms/step - loss: 1.6050e-04\n"
          ]
        }
      ]
    },
    {
      "cell_type": "code",
      "source": [
        "a = model_hedge_strat.predict(xtrain)\n",
        "plt.hist(a[:,0])\n",
        "plt.show()\n",
        "print(np.std(a[:,0]))\n",
        "print(np.mean(a[:,N+1]))"
      ],
      "metadata": {
        "colab": {
          "base_uri": "https://localhost:8080/",
          "height": 481
        },
        "id": "nhVGAqrBMqSH",
        "outputId": "e8e2eda6-a4f3-445f-c6a5-84abd29bbf97"
      },
      "execution_count": 13,
      "outputs": [
        {
          "output_type": "stream",
          "name": "stdout",
          "text": [
            "3125/3125 [==============================] - 54s 15ms/step\n"
          ]
        },
        {
          "output_type": "display_data",
          "data": {
            "text/plain": [
              "<Figure size 640x480 with 1 Axes>"
            ],
            "image/png": "[encoded data removed]"
          },
          "metadata": {}
        },
        {
          "output_type": "stream",
          "name": "stdout",
          "text": [
            "0.011612371\n",
            "0.08028693\n"
          ]
        }
      ]
    },
    {
      "cell_type": "code",
      "source": [
        "Ktest=50\n",
        "xtest = ([initialprice*np.ones((Ktest,m))] +\n",
        "          [np.zeros((Ktest,m))]+\n",
        "          [0.5*np.ones((Ktest,m))+np.cumsum(np.ones((Ktest,m))*(1.5-0.5)/Ktest,axis=0)] +#change this if you go to higher dimensions\n",
        "          [priceBS*np.ones((Ktest,m))]+\n",
        "          [np.random.normal(-(sigma)**2/2*(grid[i+1]-grid[i]),sigma*np.sqrt(grid[i+1]-grid[i]),(Ktest,m)) for i in range(N)])\n",
        "\n",
        "y=model_hedge_strat.predict(xtest)[:,10]\n",
        "print(y)"
      ],
      "metadata": {
        "colab": {
          "base_uri": "https://localhost:8080/"
        },
        "id": "22ZrG9uQMsXm",
        "outputId": "14712c34-92f3-4dac-a87a-d5f84d361bbc"
      },
      "execution_count": 14,
      "outputs": [
        {
          "output_type": "stream",
          "name": "stdout",
          "text": [
            "2/2 [==============================] - 5s 21ms/step\n",
            "[-0.3423095  -0.31506276 -0.28685215 -0.25768748 -0.22758105 -0.19654733\n",
            " -0.1646038  -0.13176852 -0.09806506 -0.0635188  -0.02816198  0.00796597\n",
            "  0.04481652  0.08233076  0.12043788  0.15905225  0.19807604  0.2373982\n",
            "  0.2768937   0.31642777  0.35585788  0.39503425  0.4338064   0.4720244\n",
            "  0.50954396  0.5462278   0.5819505   0.61660105  0.6500828   0.6823167\n",
            "  0.71324056  0.74280995  0.7709964   0.7977877   0.8231855   0.8472032\n",
            "  0.8698658   0.89120704  0.9112675   0.93009394  0.94773674  0.9642495\n",
            "  0.9796869   0.994105    1.0075593   1.0201048   1.0317951   1.0426819\n",
            "  1.0528154   1.0622435 ]\n"
          ]
        }
      ]
    },
    {
      "cell_type": "code",
      "source": [
        "logincrements = xtrain[4:4+N]\n",
        "hedge = np.zeros(Ktrain)\n",
        "price = S0*np.ones((Ktrain,N))\n",
        "for k in range(N-1):\n",
        "    helper = logincrements[k][:,]\n",
        "    helper = helper.transpose()\n",
        "    price[:,k+1] = price[:,k]*np.exp(helper[:])\n",
        "    hedge[:] = hedge[:] + scipy.norm.cdf((np.log(price[:,k]/strike)+0.5*(T-grid[k+1])*sigma**2)/(np.sqrt(T-grid[k+1])*sigma))*(price[:,k+1]-price[:,k])\n",
        "hedge[:]= hedge[:]-0.5*(np.abs(price[:,N-1]-strike)+(price[:,N-1]-strike))+priceBS\n",
        "plt.hist(hedge)\n",
        "plt.show()\n",
        "print(np.std(hedge))\n",
        "print(np.mean(hedge))"
      ],
      "metadata": {
        "colab": {
          "base_uri": "https://localhost:8080/",
          "height": 464
        },
        "id": "SGE3xurqMuUR",
        "outputId": "912b9a62-df63-4d15-d052-62a4d56a23bc"
      },
      "execution_count": 15,
      "outputs": [
        {
          "output_type": "display_data",
          "data": {
            "text/plain": [
              "<Figure size 640x480 with 1 Axes>"
            ],
            "image/png": "[encoded data removed]"
          },
          "metadata": {}
        },
        {
          "output_type": "stream",
          "name": "stdout",
          "text": [
            "0.006884323120714913\n",
            "0.00036652911733968684\n"
          ]
        }
      ]
    },
    {
      "cell_type": "code",
      "source": [
        "l =20\n",
        "s=np.linspace(0.5,1.5,Ktest)\n",
        "z=scipy.norm.cdf((np.log(s/strike)+0.5*(T-grid[l])*sigma**2)/(np.sqrt(T-grid[l])*sigma))\n",
        "#plt.plot(s,z)\n",
        "#plt.plot(s,y)\n",
        "y=model_hedge_strat.predict(xtest)[:,l]\n",
        "plt.plot(s,y,s,z)\n",
        "plt.show()"
      ],
      "metadata": {
        "colab": {
          "base_uri": "https://localhost:8080/",
          "height": 447
        },
        "id": "jJz9nOyTMwSk",
        "outputId": "5ed8aa99-0a6d-46bb-eaec-d0785c686e5f"
      },
      "execution_count": 16,
      "outputs": [
        {
          "output_type": "stream",
          "name": "stdout",
          "text": [
            "2/2 [==============================] - 0s 19ms/step\n"
          ]
        },
        {
          "output_type": "display_data",
          "data": {
            "text/plain": [
              "<Figure size 640x480 with 1 Axes>"
            ],
            "image/png": "[encoded data removed]"
          },
          "metadata": {}
        }
      ]
    },
    {
      "cell_type": "code",
      "source": [
        "#Definition of neural networks for heding strategies\n",
        "\n",
        "m = 1 # dimension of price\n",
        "d = 3 # number of layers in strategy\n",
        "n = 8  # nodes in the first but last layers\n",
        "\n",
        "# architecture is the same for all networks\n",
        "layers = []\n",
        "for j in range(N):\n",
        "    for i in range(d):\n",
        "        if i < d-1:\n",
        "            nodes = n\n",
        "            layer = Dense(nodes, activation='tanh',trainable=True,\n",
        "                      kernel_initializer=initializers.RandomNormal(0,1),#kernel_initializer='random_normal',\n",
        "                      bias_initializer='random_normal',\n",
        "                      name=str(i)+str(j))\n",
        "        else:\n",
        "            nodes = m\n",
        "            layer = Dense(nodes, activation='linear', trainable=True,\n",
        "                          kernel_initializer=initializers.RandomNormal(0,0.1),#kernel_initializer='random_normal',\n",
        "                          bias_initializer='random_normal',\n",
        "                          name=str(i)+str(j))\n",
        "        layers = layers + [layer]"
      ],
      "metadata": {
        "id": "kjtT-58deN4y"
      },
      "execution_count": 17,
      "outputs": []
    },
    {
      "cell_type": "code",
      "source": [
        "#Implementing the loss function\n",
        "# Inputs is the training set below, containing the price S0,\n",
        "#the initial hedging being 0, and the increments of the log price process\n",
        "price = Input(shape=(m,))\n",
        "hedge = Input(shape=(m,))\n",
        "hedgeeval = Input(shape=(m,))\n",
        "premium = Input(shape=(m,))\n",
        "\n",
        "inputs = [price]+[hedge]+[hedgeeval]+[premium]\n",
        "outputhelper=[]\n",
        "\n",
        "premium = Dense(m, activation='linear', trainable=False,\n",
        "                kernel_initializer=initializers.RandomNormal(1.0,0.0),#kernel_initializer='random_normal',\n",
        "                bias_initializer=initializers.RandomNormal(0.0,0.0))(premium)\n",
        "\n",
        "for j in range(N):\n",
        "    strategy = Concatenate()([price,premium])\n",
        "    strategyeval=Concatenate()([hedgeeval,premium])\n",
        "    for k in range(d):\n",
        "        strategy= layers[k+(j)*d](strategy) # strategy at j is the hedging strategy at j , i.e. the neural network g_j\n",
        "        strategyeval=layers[k+(j)*d](strategyeval)\n",
        "    incr = Input(shape=(m,))\n",
        "    logprice= Lambda(lambda x : K.log(x))(price)\n",
        "    logprice = Add()([logprice, incr])\n",
        "    pricenew=Lambda(lambda x : K.exp(x))(logprice)# creating the price at time j+1\n",
        "    priceincr=Subtract()([pricenew, price])\n",
        "    hedgenew = Multiply()([strategy, priceincr])\n",
        "    #mult = Lambda(lambda x : K.sum(x,axis=1))(mult) # this is only used for m > 1\n",
        "    hedge = Add()([hedge,hedgenew]) # building up the discretized stochastic integral\n",
        "    inputs = inputs + [incr]\n",
        "    outputhelper = outputhelper + [strategyeval]\n",
        "    price=pricenew\n",
        "payoff= Lambda(lambda x : 0.5*(K.abs(x-strike)+x-strike))(price)\n",
        "outputs = Subtract()([payoff,hedge])\n",
        "outputs = Subtract()([outputs,premium]) # payoff minus price minus hedge\n",
        "outputs= [outputs] + outputhelper +[premium]\n",
        "outputs = Concatenate()(outputs)\n",
        "\n",
        "model_hedge_strat = Model(inputs=inputs, outputs=outputs)"
      ],
      "metadata": {
        "id": "hn-EPcnVeQgd"
      },
      "execution_count": 18,
      "outputs": []
    },
    {
      "cell_type": "code",
      "source": [
        "Ktrain = 10**5\n",
        "initialprice = S0\n",
        "\n",
        "# xtrain consists of the price S0,\n",
        "#the initial hedging being 0, and the increments of the log price process\n",
        "xtrain = ([initialprice*np.ones((Ktrain,m))] +\n",
        "          [np.zeros((Ktrain,m))]+\n",
        "          [np.ones((Ktrain,m))] +\n",
        "          [priceBS*np.linspace(0.5,1.5,Ktrain)]+\n",
        "          [np.random.normal(-(sigma)**2*T/(2*N),sigma*np.sqrt(T)/np.sqrt(N),(Ktrain,m)) for i in range(N)])\n",
        "\n",
        "ytrain=np.zeros((Ktrain,1+N))"
      ],
      "metadata": {
        "id": "R5Pa46gxeSgT"
      },
      "execution_count": 19,
      "outputs": []
    },
    {
      "cell_type": "code",
      "source": [
        "#import keras\n",
        "from keras import losses\n",
        "def custom_loss(y_true,y_pred):\n",
        "    #return losses.mean_squared_error(y_true[0], y_pred[0])\n",
        "    z = y_pred[:,0]-y_true[:,0]\n",
        "    z=K.mean(K.exp(-z))\n",
        "    return z\n"
      ],
      "metadata": {
        "id": "9gL79brDeURI"
      },
      "execution_count": 20,
      "outputs": []
    },
    {
      "cell_type": "code",
      "source": [
        "model_hedge_strat.compile(optimizer='adam',loss=custom_loss)"
      ],
      "metadata": {
        "id": "Yi3l_9KseVB2"
      },
      "execution_count": 21,
      "outputs": []
    },
    {
      "cell_type": "code",
      "source": [
        "import matplotlib.pyplot as plt\n",
        "\n",
        "for i in range(5):\n",
        "    model_hedge_strat.fit(x=xtrain,y=ytrain, epochs=1,verbose=True)\n",
        "plt.hist(model_hedge_strat.predict(xtrain)[:,0])\n",
        "plt.show()\n",
        "print(np.std(model_hedge_strat.predict(xtrain)[:,0]))\n",
        "print(np.mean(model_hedge_strat.predict(xtrain)[:,N+1]))"
      ],
      "metadata": {
        "colab": {
          "base_uri": "https://localhost:8080/",
          "height": 601
        },
        "id": "vChR9o8MeYJB",
        "outputId": "f2b46e8f-1853-430b-93b5-c2fd11bff4fd"
      },
      "execution_count": 22,
      "outputs": [
        {
          "output_type": "stream",
          "name": "stdout",
          "text": [
            "3125/3125 [==============================] - 222s 48ms/step - loss: 1.0041\n",
            "3125/3125 [==============================] - 151s 48ms/step - loss: 1.0025\n",
            "3125/3125 [==============================] - 148s 47ms/step - loss: 1.0024\n",
            "3125/3125 [==============================] - 150s 48ms/step - loss: 1.0022\n",
            "3125/3125 [==============================] - 149s 48ms/step - loss: 1.0021\n",
            "3125/3125 [==============================] - 54s 15ms/step\n"
          ]
        },
        {
          "output_type": "display_data",
          "data": {
            "text/plain": [
              "<Figure size 640x480 with 1 Axes>"
            ],
            "image/png": "[encoded data removed]"
          },
          "metadata": {}
        },
        {
          "output_type": "stream",
          "name": "stdout",
          "text": [
            "3125/3125 [==============================] - 52s 17ms/step\n",
            "0.07044798\n",
            "3125/3125 [==============================] - 48s 15ms/step\n",
            "0.07965567\n"
          ]
        }
      ]
    }
  ]
}