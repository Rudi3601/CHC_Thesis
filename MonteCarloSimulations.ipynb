{
  "nbformat": 4,
  "nbformat_minor": 0,
  "metadata": {
    "colab": {
      "provenance": [],
      "authorship_tag": "ABX9TyOi1HhhizM5P2xxJUYQUNfK",
      "include_colab_link": true
    },
    "kernelspec": {
      "name": "python3",
      "display_name": "Python 3"
    },
    "language_info": {
      "name": "python"
    }
  },
  "cells": [
    {
      "cell_type": "markdown",
      "metadata": {
        "id": "view-in-github",
        "colab_type": "text"
      },
      "source": [
        "<a href=\"https://colab.research.google.com/github/Rudi3601/CHC_Thesis/blob/main/MonteCarloSimulations.ipynb\" target=\"_parent\"><img src=\"https://colab.research.google.com/assets/colab-badge.svg\" alt=\"Open In Colab\"/></a>"
      ]
    },
    {
      "cell_type": "code",
      "source": [
        "#Monte Carlo Simulations for Asian Call Options\n",
        "\n",
        "import numpy as np\n",
        "\n",
        "def monte_carlo_simulator(sigma, r, K, S, N_traj, N_steps, T):\n",
        "    payoff = 0\n",
        "    for i in range(1, N_traj + 1):\n",
        "        S_arr = []\n",
        "        S_arr.append(S)\n",
        "        dt = T / N_steps\n",
        "        for j in range(1, N_steps + 1):\n",
        "            z_ij = np.random.normal(0, 1)\n",
        "            S_val = S_arr[-1] * np.exp((r - 0.5 * sigma**2) * dt + sigma * np.sqrt(dt) * z_ij)\n",
        "            S_arr.append(S_val)\n",
        "\n",
        "        S_avg = sum(S_arr) / N_steps\n",
        "        V_i = np.exp(-r * T) * max(0, S_avg - K)\n",
        "        payoff += V_i\n",
        "\n",
        "    option_price = payoff / N_traj\n",
        "    return option_price\n",
        "\n",
        "\n",
        "sigma = 0.2\n",
        "r = 0.05\n",
        "K = 100\n",
        "S = 100\n",
        "N_traj = 10000\n",
        "N_steps = 52\n",
        "T = 1.0\n",
        "\n",
        "option_price = monte_carlo_simulator(sigma, r, K, S, N_traj, N_steps, T)\n",
        "print(option_price)"
      ],
      "metadata": {
        "id": "snarby2k-MSD",
        "colab": {
          "base_uri": "https://localhost:8080/"
        },
        "outputId": "3163ebe2-9afc-4054-f952-5fa6ddcc0610"
      },
      "execution_count": null,
      "outputs": [
        {
          "output_type": "stream",
          "name": "stdout",
          "text": [
            "7.011414977860348\n"
          ]
        }
      ]
    },
    {
      "cell_type": "code",
      "execution_count": null,
      "metadata": {
        "id": "uJJbGsWK-ICg",
        "colab": {
          "base_uri": "https://localhost:8080/"
        },
        "outputId": "f32976d3-b9ee-4bac-d537-92d8803489ec"
      },
      "outputs": [
        {
          "output_type": "stream",
          "name": "stdout",
          "text": [
            "1.844332859868691\n"
          ]
        }
      ],
      "source": [
        "#Monte Carlo Simulations for Asian Call Options\n",
        "\n",
        "import numpy as np\n",
        "\n",
        "def monte_carlo_simulator(sigma, r, K, S, N_traj, N_steps, T):\n",
        "    payoff = 0\n",
        "    for i in range(1, N_traj):\n",
        "        S_arr = []\n",
        "        S_arr.append(S)\n",
        "        dt = T / N_steps\n",
        "        for j in range(1, N_steps + 1):\n",
        "            z_ij = np.random.normal(0, 1)\n",
        "            S_val = S_arr[-1] * np.exp((r - 0.5 * sigma**2) * dt + sigma * np.sqrt(dt) * z_ij)\n",
        "            S_arr.append(S_val)\n",
        "\n",
        "        S_avg = sum(S_arr) / N_steps\n",
        "        V_i = np.exp(-r * T) * max(0, K - S_avg)\n",
        "        payoff += V_i\n",
        "\n",
        "    option_price = payoff / N_traj\n",
        "    return option_price\n",
        "\n",
        "\n",
        "sigma = 0.2\n",
        "r = 0.05\n",
        "K = 100\n",
        "S = 100\n",
        "N_traj = 1000\n",
        "N_steps = 20\n",
        "T = 1.0\n",
        "\n",
        "option_price = monte_carlo_simulator(sigma, r, K, S, N_traj, N_steps, T)\n",
        "print(option_price)"
      ]
    }
  ]
}