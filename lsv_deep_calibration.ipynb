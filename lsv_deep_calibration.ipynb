{
  "nbformat": 4,
  "nbformat_minor": 0,
  "metadata": {
    "colab": {
      "provenance": [],
      "authorship_tag": "ABX9TyMAXHH5u6/kaVJu26MNGcy/",
      "include_colab_link": true
    },
    "kernelspec": {
      "name": "python3",
      "display_name": "Python 3"
    },
    "language_info": {
      "name": "python"
    }
  },
  "cells": [
    {
      "cell_type": "markdown",
      "metadata": {
        "id": "view-in-github",
        "colab_type": "text"
      },
      "source": [
        "<a href=\"https://colab.research.google.com/github/Rudi3601/CHC_Thesis/blob/main/lsv_deep_calibration.ipynb\" target=\"_parent\"><img src=\"https://colab.research.google.com/assets/colab-badge.svg\" alt=\"Open In Colab\"/></a>"
      ]
    },
    {
      "cell_type": "code",
      "execution_count": 1,
      "metadata": {
        "colab": {
          "base_uri": "https://localhost:8080/"
        },
        "id": "60DBZCVRVHI0",
        "outputId": "c9628363-4ea8-4340-c8eb-0bd31d5da636"
      },
      "outputs": [
        {
          "output_type": "stream",
          "name": "stderr",
          "text": [
            "WARNING:tensorflow:From /usr/local/lib/python3.10/dist-packages/tensorflow/python/compat/v2_compat.py:108: disable_resource_variables (from tensorflow.python.ops.variable_scope) is deprecated and will be removed in a future version.\n",
            "Instructions for updating:\n",
            "non-resource variables are not supported in the long term\n"
          ]
        }
      ],
      "source": [
        "#%tensorflow_version 1.x\n",
        "\n",
        "import tensorflow.compat.v1 as tf\n",
        "tf.disable_v2_behavior()\n",
        "\n",
        "import numpy as np\n",
        "#import tensorflow as tf\n",
        "\n",
        "from keras.models import Sequential\n",
        "from keras.layers import Input, Dense, Conv2D, Concatenate, Dropout, Subtract, \\\n",
        "                        Flatten, MaxPooling2D, Multiply, Lambda, Add, Dot\n",
        "from keras.backend import constant\n",
        "from keras import optimizers\n",
        "\n",
        "from keras.models import Model\n",
        "from keras.layers import Input\n",
        "from keras import initializers\n",
        "from keras.constraints import max_norm\n",
        "import keras.backend as K"
      ]
    },
    {
      "cell_type": "code",
      "source": [
        "m = 10 # layer dimension\n",
        "n = 2 # number of layers for local volatility\n",
        "N = 20 # time discretization (should fit to maturities)\n",
        "maturities = [0.5, 1.] # list of maturities in years\n",
        "\n",
        "T = 1.0\n",
        "\n",
        "layers = []\n",
        "for j in range(len(maturities)):\n",
        "    layersatT = []\n",
        "    for i in range(n):\n",
        "        if i < 1:\n",
        "            nodes = m\n",
        "        else:\n",
        "            nodes = 1\n",
        "        layer = Dense(nodes, activation='relu', trainable=False,\n",
        "                      kernel_initializer=initializers.RandomNormal(0,1),#kernel_initializer='random_normal',\n",
        "                      bias_initializer='random_normal')\n",
        "        layersatT = layersatT + [layer]\n",
        "    layers = layers + [layersatT]\n",
        "\n",
        "#P = {(1.0,1.0): 0.4, (1.1,1.0):0.2, (0.9,1.0):0.5,\n",
        "#     (1.0,0.5): 0.2, (1.1,0.5):0.1, (0.9,0.5):0.3}\n",
        "\n",
        "P= {(0.9, 0.5): 0.20042534,\n",
        "    (0.9, 1.0): 0.23559685,\n",
        "    (1.0, 0.5): 0.16312157,\n",
        "    (1.0, 1.0): 0.20771958,\n",
        "    (1.1, 0.5): 0.13154241,\n",
        "    (1.1, 1.0): 0.18236567}\n",
        "\n",
        "hedges = {}\n",
        "hedgeskey =[]\n",
        "for key in P.keys():\n",
        "    for j in range(N):\n",
        "        hedge = Dense(nodes, activation='relu', trainable=True,\n",
        "                      kernel_initializer=initializers.RandomNormal(0,0.1),#kernel_initializer='random_normal',\n",
        "                      bias_initializer='random_normal')\n",
        "        hedgeskey = hedgeskey + [hedge]\n",
        "    hedges[key] = hedgeskey\n",
        "start = 0"
      ],
      "metadata": {
        "colab": {
          "base_uri": "https://localhost:8080/"
        },
        "id": "RCkjjQ__VOIS",
        "outputId": "790448ef-54c8-47b4-9c1c-e0e918fc44d7"
      },
      "execution_count": 2,
      "outputs": [
        {
          "output_type": "stream",
          "name": "stderr",
          "text": [
            "WARNING:tensorflow:From /usr/local/lib/python3.10/dist-packages/keras/src/initializers/initializers_v1.py:172: calling RandomNormal.__init__ (from tensorflow.python.ops.init_ops) with dtype is deprecated and will be removed in a future version.\n",
            "Instructions for updating:\n",
            "Call initializer instance with the dtype argument instead of passing it to the constructor\n"
          ]
        }
      ]
    },
    {
      "cell_type": "code",
      "source": [
        "keylist = list(P.keys())\n",
        "price = Input(shape=(1,))\n",
        "hedgepf = [Input(shape=(1,)) for l in range(len(P.keys()))]\n",
        "inputs = [price] + hedgepf\n",
        "inputshelper = []\n",
        "hedgeratio = {}\n",
        "hedge = {}\n",
        "pricekey = [0 for l in range(len(P.keys()))]\n",
        "\n",
        "normal = tf.distributions.Normal(loc=0., scale=1.)\n",
        "\n",
        "def BS(x):\n",
        "    price=x[0]\n",
        "    vola=x[1]\n",
        "    return normal.cdf((K.log(K.abs(price)/key[0])-0.5*(key[1]-j*T/N)*vola**2)/(0.00001+np.sqrt(key[1]-j*T/N)*vola))\n",
        "# increases computational time\n",
        "\n",
        "for i in range(len(maturities)):\n",
        "    for j in range(start,N):\n",
        "        if maturities[i] >= j*T/N:\n",
        "            helper0 = layers[i][0](price)\n",
        "            for k in range(1,2):\n",
        "                helper0 = layers[i][k](helper0) # local vol applied to price at time j*T/N\n",
        "            BMincr = Input(shape=(1,)) # BM increment\n",
        "            stochvol = Input(shape=(1,)) # stochvol value\n",
        "            helper1 = Multiply()([helper0,BMincr])\n",
        "            helper1 = Lambda(lambda x: x * np.sqrt(T/N))(helper1)\n",
        "            priceincr = Multiply()([helper1,stochvol]) # new price increment\n",
        "            for l in range(len(P.keys())):\n",
        "                key = keylist[l]\n",
        "                hedgeratio[key] = hedges[key][j](price)\n",
        "                BSstrategy = Lambda(BS)([price,helper0])\n",
        "                hedgeratio[key] = Add()([hedgeratio[key],BSstrategy])\n",
        "                hedge[key] = Multiply()([priceincr,hedgeratio[key]])\n",
        "                hedgepf[l] = Add()([hedgepf[l],hedge[key]])\n",
        "                if key[1]==((j+1)*T/N): # the option expires\n",
        "                    helper2 = Lambda(lambda x : 0.5*(abs(x-key[0])+x-key[0]))(price)\n",
        "                    helper2 = Subtract()([helper2,hedgepf[l]]) # payoff minus hedge\n",
        "                    pricekey[l] = helper2\n",
        "            price = Add()([price,priceincr]) #new price after one time step\n",
        "            inputshelper = inputshelper + [stochvol]\n",
        "            inputs = inputs + [BMincr]\n",
        "        else:\n",
        "            start = j\n",
        "            break\n",
        "\n",
        "inputs = inputs + inputshelper\n",
        "pricekey = Concatenate()(pricekey)\n",
        "localvol_trainhedge = Model(inputs=inputs, outputs=pricekey)"
      ],
      "metadata": {
        "colab": {
          "base_uri": "https://localhost:8080/"
        },
        "id": "xlS1JSqhVTKr",
        "outputId": "8d7008b2-2cb8-4923-f8b0-f0f900acf927"
      },
      "execution_count": 3,
      "outputs": [
        {
          "output_type": "stream",
          "name": "stderr",
          "text": [
            "WARNING:tensorflow:From <ipython-input-3-a0d2ebc90d3a>:10: Normal.__init__ (from tensorflow.python.ops.distributions.normal) is deprecated and will be removed after 2019-01-01.\n",
            "Instructions for updating:\n",
            "The TensorFlow Distributions library has moved to TensorFlow Probability (https://github.com/tensorflow/probability). You should update all references to use `tfp.distributions` instead of `tf.distributions`.\n",
            "WARNING:tensorflow:From /usr/local/lib/python3.10/dist-packages/tensorflow/python/ops/distributions/normal.py:149: Distribution.__init__ (from tensorflow.python.ops.distributions.distribution) is deprecated and will be removed after 2019-01-01.\n",
            "Instructions for updating:\n",
            "The TensorFlow Distributions library has moved to TensorFlow Probability (https://github.com/tensorflow/probability). You should update all references to use `tfp.distributions` instead of `tf.distributions`.\n",
            "<ipython-input-3-a0d2ebc90d3a>:15: RuntimeWarning: invalid value encountered in sqrt\n",
            "  return normal.cdf((K.log(K.abs(price)/key[0])-0.5*(key[1]-j*T/N)*vola**2)/(0.00001+np.sqrt(key[1]-j*T/N)*vola))\n"
          ]
        }
      ]
    },
    {
      "cell_type": "code",
      "source": [
        "layers = []\n",
        "\n",
        "for j in range(len(maturities)):\n",
        "    layersatT = []\n",
        "    for i in range(2):\n",
        "        if i < 1:\n",
        "            nodes = m\n",
        "        else:\n",
        "            nodes = 1\n",
        "        layer = Dense(nodes, activation='relu', trainable=True,\n",
        "                      kernel_initializer=initializers.RandomNormal(0,1),#kernel_initializer='random_normal',\n",
        "                      bias_initializer='random_normal')\n",
        "        layersatT = layersatT + [layer]\n",
        "    layers = layers + [layersatT]\n",
        "\n",
        "\n",
        "hedges = {}\n",
        "hedgeskey =[]\n",
        "for key in P.keys():\n",
        "    for j in range(N):\n",
        "        hedge = Dense(nodes, activation='relu', trainable=False,\n",
        "                      kernel_initializer=initializers.RandomNormal(0,0.1),#kernel_initializer='random_normal',\n",
        "                      bias_initializer='random_normal')\n",
        "        hedgeskey = hedgeskey + [hedge]\n",
        "    hedges[key] = hedgeskey\n",
        "start = 0"
      ],
      "metadata": {
        "id": "HoK8sgisVTpB"
      },
      "execution_count": 4,
      "outputs": []
    },
    {
      "cell_type": "code",
      "source": [
        "keylist = list(P.keys())\n",
        "price = Input(shape=(1,))\n",
        "hedgepf = [Input(shape=(1,)) for l in range(len(P.keys()))]\n",
        "inputs = [price] + hedgepf\n",
        "inputshelper = []\n",
        "hedgeratio = {}\n",
        "hedge = {}\n",
        "pricekey = [0 for l in range(len(P.keys()))]\n",
        "\n",
        "for i in range(len(maturities)):\n",
        "    for j in range(start,N):\n",
        "        if maturities[i] >= j*T/N:\n",
        "            layers[i][0].trainable=True\n",
        "            helper0 = layers[i][0](price)\n",
        "            for k in range(1,2):\n",
        "                layers[i][k].trainable=True\n",
        "                helper0 = layers[i][k](helper0)\n",
        "            BMincr = Input(shape=(1,))\n",
        "            stochvol = Input(shape=(1,))\n",
        "            helper1 = Multiply()([helper0,BMincr])\n",
        "            helper1 = Lambda(lambda x: x * np.sqrt(T/N))(helper1)\n",
        "            priceincr = Multiply()([helper1,stochvol])\n",
        "            for l in range(len(P.keys())):\n",
        "                key = keylist[l]\n",
        "                hedges[key][j].trainable=False\n",
        "                hedgeratio[key] = hedges[key][j](price)\n",
        "                BSstrategy = Lambda(BS)([price,helper0])\n",
        "                hedgeratio[key] = Add()([hedgeratio[key],BSstrategy])\n",
        "                hedge[key] = Multiply()([priceincr,hedgeratio[key]])\n",
        "                hedgepf[l] = Add()([hedgepf[l],hedge[key]])\n",
        "                if key[1]==((j+1)*T/N):\n",
        "                    helper2 = Lambda(lambda x : 0.5*(abs(x-key[0])+x-key[0]))(price)\n",
        "                    helper2 = Subtract()([helper2,hedgepf[l]])\n",
        "                    pricekey[l] = helper2\n",
        "            price = Add()([price,priceincr])\n",
        "            inputshelper = inputshelper + [stochvol]\n",
        "            inputs = inputs + [BMincr]\n",
        "        else:\n",
        "            start = j\n",
        "            break\n",
        "\n",
        "inputs = inputs + inputshelper\n",
        "pricekey = Concatenate()(pricekey)\n",
        "localvol_trainlocvol = Model(inputs=inputs, outputs=pricekey)"
      ],
      "metadata": {
        "colab": {
          "base_uri": "https://localhost:8080/"
        },
        "id": "bhnTC6h3VVj7",
        "outputId": "88b4d6c8-24af-4b4a-91c9-10953120eba0"
      },
      "execution_count": 5,
      "outputs": [
        {
          "output_type": "stream",
          "name": "stderr",
          "text": [
            "<ipython-input-3-a0d2ebc90d3a>:15: RuntimeWarning: invalid value encountered in sqrt\n",
            "  return normal.cdf((K.log(K.abs(price)/key[0])-0.5*(key[1]-j*T/N)*vola**2)/(0.00001+np.sqrt(key[1]-j*T/N)*vola))\n"
          ]
        }
      ]
    },
    {
      "cell_type": "code",
      "source": [
        "#localvol_trainlocvol.summary()"
      ],
      "metadata": {
        "id": "0_Y9ceHnVYsC"
      },
      "execution_count": 6,
      "outputs": []
    },
    {
      "cell_type": "code",
      "source": [
        "Ltrain = 5*10**3\n",
        "\n",
        "xtrain =([np.ones(Ltrain)] + [np.zeros(Ltrain) for key in keylist]+\n",
        "         [np.random.normal(0,1,Ltrain) for i in range(N)]+\n",
        "         [np.ones(Ltrain) for i in range(N)])\n",
        "\n",
        "ytrain=np.zeros((Ltrain,len(P.keys())))\n",
        "for i in range(Ltrain):\n",
        "    for l in range(len(P.keys())):\n",
        "        key = keylist[l]\n",
        "        ytrain[i,l]= P[key]"
      ],
      "metadata": {
        "id": "PKZ94Hi6Vauq"
      },
      "execution_count": 7,
      "outputs": []
    },
    {
      "cell_type": "code",
      "source": [
        "import matplotlib.pyplot as plt\n",
        "\n",
        "localvol_trainhedge.compile(optimizer='adam',\n",
        "              loss='mean_squared_error')\n",
        "localvol_trainlocvol.compile(optimizer='adam',\n",
        "              loss='mean_squared_error')\n",
        "for i in range(3):\n",
        "    localvol_trainhedge.fit(x=xtrain,y=ytrain, epochs=15,verbose=True)\n",
        "    x = localvol_trainhedge.get_weights()\n",
        "    localvol_trainlocvol.set_weights(x)\n",
        "    localvol_trainlocvol.fit(x=xtrain,y=ytrain, epochs=5,verbose=True)\n",
        "    plt.hist(localvol_trainhedge.predict(xtrain)[:,0])\n",
        "    plt.show()\n",
        "    print(np.mean(localvol_trainhedge.predict(xtrain)[:,0]))\n",
        "    y = localvol_trainlocvol.get_weights()\n",
        "    localvol_trainhedge.set_weights(y)"
      ],
      "metadata": {
        "colab": {
          "base_uri": "https://localhost:8080/",
          "height": 1000
        },
        "id": "l4J8Fgb7VcUU",
        "outputId": "b1653db0-6c1f-4610-ef4c-cf1db155c324"
      },
      "execution_count": 8,
      "outputs": [
        {
          "output_type": "stream",
          "name": "stdout",
          "text": [
            "Train on 5000 samples\n",
            "Epoch 1/15\n",
            "5000/5000 [==============================] - 6s 1ms/sample - loss: 0.0248\n",
            "Epoch 2/15\n",
            "5000/5000 [==============================] - 3s 610us/sample - loss: 0.0248\n",
            "Epoch 3/15\n",
            "5000/5000 [==============================] - 2s 404us/sample - loss: 0.0248\n",
            "Epoch 4/15\n",
            "5000/5000 [==============================] - 2s 397us/sample - loss: 0.0248\n",
            "Epoch 5/15\n",
            "5000/5000 [==============================] - 2s 404us/sample - loss: 0.0248\n",
            "Epoch 6/15\n",
            "5000/5000 [==============================] - 2s 396us/sample - loss: 0.0248\n",
            "Epoch 7/15\n",
            "5000/5000 [==============================] - 2s 412us/sample - loss: 0.0248\n",
            "Epoch 8/15\n",
            "5000/5000 [==============================] - 3s 583us/sample - loss: 0.0248\n",
            "Epoch 9/15\n",
            "5000/5000 [==============================] - 2s 384us/sample - loss: 0.0248\n",
            "Epoch 10/15\n",
            "5000/5000 [==============================] - 2s 381us/sample - loss: 0.0248\n",
            "Epoch 11/15\n",
            "5000/5000 [==============================] - 2s 396us/sample - loss: 0.0248\n",
            "Epoch 12/15\n",
            "5000/5000 [==============================] - 2s 400us/sample - loss: 0.0248\n",
            "Epoch 13/15\n",
            "5000/5000 [==============================] - 2s 474us/sample - loss: 0.0248\n",
            "Epoch 14/15\n",
            "5000/5000 [==============================] - 3s 515us/sample - loss: 0.0248\n",
            "Epoch 15/15\n",
            "5000/5000 [==============================] - 2s 385us/sample - loss: 0.0248\n",
            "Train on 5000 samples\n",
            "Epoch 1/5\n",
            "5000/5000 [==============================] - 13s 3ms/sample - loss: 0.0248\n",
            "Epoch 2/5\n",
            "5000/5000 [==============================] - 3s 683us/sample - loss: 0.0248\n",
            "Epoch 3/5\n",
            "5000/5000 [==============================] - 3s 689us/sample - loss: 0.0248\n",
            "Epoch 4/5\n",
            "5000/5000 [==============================] - 4s 760us/sample - loss: 0.0248\n",
            "Epoch 5/5\n",
            "5000/5000 [==============================] - 3s 627us/sample - loss: 0.0248\n"
          ]
        },
        {
          "output_type": "stream",
          "name": "stderr",
          "text": [
            "/usr/local/lib/python3.10/dist-packages/keras/src/engine/training_v1.py:2359: UserWarning: `Model.state_updates` will be removed in a future version. This property should not be used in TensorFlow 2.0, as `updates` are applied automatically.\n",
            "  updates=self.state_updates,\n"
          ]
        },
        {
          "output_type": "display_data",
          "data": {
            "text/plain": [
              "<Figure size 640x480 with 1 Axes>"
            ],
            "image/png": "[encoded data removed]"
          },
          "metadata": {}
        },
        {
          "output_type": "stream",
          "name": "stdout",
          "text": [
            "0.100000024\n",
            "Train on 5000 samples\n",
            "Epoch 1/15\n",
            "5000/5000 [==============================] - 4s 743us/sample - loss: 0.0248\n",
            "Epoch 2/15\n",
            "5000/5000 [==============================] - 2s 478us/sample - loss: 0.0248\n",
            "Epoch 3/15\n",
            "5000/5000 [==============================] - 2s 399us/sample - loss: 0.0248\n",
            "Epoch 4/15\n",
            "5000/5000 [==============================] - 2s 393us/sample - loss: 0.0248\n",
            "Epoch 5/15\n",
            "5000/5000 [==============================] - 2s 399us/sample - loss: 0.0248\n",
            "Epoch 6/15\n",
            "5000/5000 [==============================] - 3s 619us/sample - loss: 0.0248\n",
            "Epoch 7/15\n",
            "5000/5000 [==============================] - 2s 402us/sample - loss: 0.0248\n",
            "Epoch 8/15\n",
            "5000/5000 [==============================] - 2s 385us/sample - loss: 0.0248\n",
            "Epoch 9/15\n",
            "5000/5000 [==============================] - 2s 391us/sample - loss: 0.0248\n",
            "Epoch 10/15\n",
            "5000/5000 [==============================] - 2s 391us/sample - loss: 0.0248\n",
            "Epoch 11/15\n",
            "5000/5000 [==============================] - 2s 445us/sample - loss: 0.0248\n",
            "Epoch 12/15\n",
            "5000/5000 [==============================] - 3s 546us/sample - loss: 0.0248\n",
            "Epoch 13/15\n",
            "5000/5000 [==============================] - 2s 389us/sample - loss: 0.0248\n",
            "Epoch 14/15\n",
            "5000/5000 [==============================] - 2s 392us/sample - loss: 0.0248\n",
            "Epoch 15/15\n",
            "5000/5000 [==============================] - 2s 396us/sample - loss: 0.0248\n",
            "Train on 5000 samples\n",
            "Epoch 1/5\n",
            "5000/5000 [==============================] - 3s 613us/sample - loss: 0.0248\n",
            "Epoch 2/5\n",
            "5000/5000 [==============================] - 4s 817us/sample - loss: 0.0248\n",
            "Epoch 3/5\n",
            "5000/5000 [==============================] - 4s 777us/sample - loss: 0.0248\n",
            "Epoch 4/5\n",
            "5000/5000 [==============================] - 7s 1ms/sample - loss: 0.0248\n",
            "Epoch 5/5\n",
            "5000/5000 [==============================] - 6s 1ms/sample - loss: 0.0248\n"
          ]
        },
        {
          "output_type": "display_data",
          "data": {
            "text/plain": [
              "<Figure size 640x480 with 1 Axes>"
            ],
            "image/png": "[encoded data removed]"
          },
          "metadata": {}
        },
        {
          "output_type": "stream",
          "name": "stdout",
          "text": [
            "0.100000024\n",
            "Train on 5000 samples\n",
            "Epoch 1/15\n",
            "5000/5000 [==============================] - 2s 387us/sample - loss: 0.0248\n",
            "Epoch 2/15\n",
            "5000/5000 [==============================] - 3s 591us/sample - loss: 0.0248\n",
            "Epoch 3/15\n",
            "5000/5000 [==============================] - 2s 378us/sample - loss: 0.0248\n",
            "Epoch 4/15\n",
            "5000/5000 [==============================] - 2s 379us/sample - loss: 0.0248\n",
            "Epoch 5/15\n",
            "5000/5000 [==============================] - 2s 369us/sample - loss: 0.0248\n",
            "Epoch 6/15\n",
            "5000/5000 [==============================] - 2s 389us/sample - loss: 0.0248\n",
            "Epoch 7/15\n",
            "5000/5000 [==============================] - 2s 386us/sample - loss: 0.0248\n",
            "Epoch 8/15\n",
            "5000/5000 [==============================] - 3s 584us/sample - loss: 0.0248\n",
            "Epoch 9/15\n",
            "5000/5000 [==============================] - 2s 382us/sample - loss: 0.0248\n",
            "Epoch 10/15\n",
            "5000/5000 [==============================] - 2s 384us/sample - loss: 0.0248\n",
            "Epoch 11/15\n",
            "5000/5000 [==============================] - 2s 391us/sample - loss: 0.0248\n",
            "Epoch 12/15\n",
            "5000/5000 [==============================] - 2s 385us/sample - loss: 0.0248\n",
            "Epoch 13/15\n",
            "5000/5000 [==============================] - 2s 381us/sample - loss: 0.0248\n",
            "Epoch 14/15\n",
            "5000/5000 [==============================] - 3s 596us/sample - loss: 0.0248\n",
            "Epoch 15/15\n",
            "5000/5000 [==============================] - 2s 380us/sample - loss: 0.0248\n",
            "Train on 5000 samples\n",
            "Epoch 1/5\n",
            "5000/5000 [==============================] - 3s 600us/sample - loss: 0.0248\n",
            "Epoch 2/5\n",
            "5000/5000 [==============================] - 3s 615us/sample - loss: 0.0248\n",
            "Epoch 3/5\n",
            "5000/5000 [==============================] - 4s 812us/sample - loss: 0.0248\n",
            "Epoch 4/5\n",
            "5000/5000 [==============================] - 3s 586us/sample - loss: 0.0248\n",
            "Epoch 5/5\n",
            "5000/5000 [==============================] - 3s 594us/sample - loss: 0.0248\n"
          ]
        },
        {
          "output_type": "display_data",
          "data": {
            "text/plain": [
              "<Figure size 640x480 with 1 Axes>"
            ],
            "image/png": "[encoded data removed]"
          },
          "metadata": {}
        },
        {
          "output_type": "stream",
          "name": "stdout",
          "text": [
            "0.100000024\n"
          ]
        }
      ]
    },
    {
      "cell_type": "code",
      "source": [
        "def custom_loss(y_true,y_pred):\n",
        "    return K.mean((K.mean(y_pred,axis=0)-K.mean(y_true,axis=0))**2)\n",
        "\n",
        "localvol_trainlocvol.compile(optimizer='adam',\n",
        "              loss=custom_loss)"
      ],
      "metadata": {
        "id": "0gAt8pCQVeHQ"
      },
      "execution_count": 9,
      "outputs": []
    },
    {
      "cell_type": "code",
      "source": [
        "for i in range(10):\n",
        "    localvol_trainlocvol.fit(x=xtrain,y=ytrain, epochs=10, verbose=True,batch_size=10**3)\n",
        "    plt.hist(localvol_trainlocvol.predict(xtrain)[:,:])\n",
        "    plt.show()\n",
        "    print(np.mean(localvol_trainlocvol.predict(xtrain)[:,:],axis=0))"
      ],
      "metadata": {
        "colab": {
          "base_uri": "https://localhost:8080/",
          "height": 1000
        },
        "id": "vQUzsHSgVglG",
        "outputId": "88d73ebf-1dd6-4b91-ee10-a23329d4afda"
      },
      "execution_count": 10,
      "outputs": [
        {
          "output_type": "stream",
          "name": "stdout",
          "text": [
            "Train on 5000 samples\n",
            "Epoch 1/10\n",
            "5000/5000 [==============================] - 11s 2ms/sample - loss: 0.0248\n",
            "Epoch 2/10\n",
            "5000/5000 [==============================] - 0s 31us/sample - loss: 0.0248\n",
            "Epoch 3/10\n",
            "5000/5000 [==============================] - 0s 32us/sample - loss: 0.0248\n",
            "Epoch 4/10\n",
            "5000/5000 [==============================] - 0s 34us/sample - loss: 0.0248\n",
            "Epoch 5/10\n",
            "5000/5000 [==============================] - 0s 32us/sample - loss: 0.0248\n",
            "Epoch 6/10\n",
            "5000/5000 [==============================] - 0s 32us/sample - loss: 0.0248\n",
            "Epoch 7/10\n",
            "5000/5000 [==============================] - 0s 32us/sample - loss: 0.0248\n",
            "Epoch 8/10\n",
            "5000/5000 [==============================] - 0s 32us/sample - loss: 0.0248\n",
            "Epoch 9/10\n",
            "5000/5000 [==============================] - 0s 32us/sample - loss: 0.0248\n",
            "Epoch 10/10\n",
            "5000/5000 [==============================] - 0s 34us/sample - loss: 0.0248\n"
          ]
        },
        {
          "output_type": "display_data",
          "data": {
            "text/plain": [
              "<Figure size 640x480 with 1 Axes>"
            ],
            "image/png": "[encoded data removed]"
          },
          "metadata": {}
        },
        {
          "output_type": "stream",
          "name": "stdout",
          "text": [
            "[0.10000426 0.10000426 0.         0.         0.         0.        ]\n",
            "Train on 5000 samples\n",
            "Epoch 1/10\n",
            "5000/5000 [==============================] - 0s 56us/sample - loss: 0.0248\n",
            "Epoch 2/10\n",
            "5000/5000 [==============================] - 0s 32us/sample - loss: 0.0248\n",
            "Epoch 3/10\n",
            "5000/5000 [==============================] - 0s 33us/sample - loss: 0.0248\n",
            "Epoch 4/10\n",
            "5000/5000 [==============================] - 0s 31us/sample - loss: 0.0248\n",
            "Epoch 5/10\n",
            "5000/5000 [==============================] - 0s 31us/sample - loss: 0.0248\n",
            "Epoch 6/10\n",
            "5000/5000 [==============================] - 0s 32us/sample - loss: 0.0248\n",
            "Epoch 7/10\n",
            "5000/5000 [==============================] - 0s 35us/sample - loss: 0.0248\n",
            "Epoch 8/10\n",
            "5000/5000 [==============================] - 0s 32us/sample - loss: 0.0248\n",
            "Epoch 9/10\n",
            "5000/5000 [==============================] - 0s 31us/sample - loss: 0.0248\n",
            "Epoch 10/10\n",
            "5000/5000 [==============================] - 0s 33us/sample - loss: 0.0248\n"
          ]
        },
        {
          "output_type": "display_data",
          "data": {
            "text/plain": [
              "<Figure size 640x480 with 1 Axes>"
            ],
            "image/png": "[encoded data removed]"
          },
          "metadata": {}
        },
        {
          "output_type": "stream",
          "name": "stdout",
          "text": [
            "[0.10000426 0.10000426 0.         0.         0.         0.        ]\n",
            "Train on 5000 samples\n",
            "Epoch 1/10\n",
            "5000/5000 [==============================] - 0s 31us/sample - loss: 0.0248\n",
            "Epoch 2/10\n",
            "5000/5000 [==============================] - 0s 32us/sample - loss: 0.0248\n",
            "Epoch 3/10\n",
            "5000/5000 [==============================] - 0s 31us/sample - loss: 0.0248\n",
            "Epoch 4/10\n",
            "5000/5000 [==============================] - 0s 31us/sample - loss: 0.0248\n",
            "Epoch 5/10\n",
            "5000/5000 [==============================] - 0s 32us/sample - loss: 0.0248\n",
            "Epoch 6/10\n",
            "5000/5000 [==============================] - 0s 34us/sample - loss: 0.0248\n",
            "Epoch 7/10\n",
            "5000/5000 [==============================] - 0s 31us/sample - loss: 0.0248\n",
            "Epoch 8/10\n",
            "5000/5000 [==============================] - 0s 32us/sample - loss: 0.0248\n",
            "Epoch 9/10\n",
            "5000/5000 [==============================] - 0s 31us/sample - loss: 0.0248\n",
            "Epoch 10/10\n",
            "5000/5000 [==============================] - 0s 32us/sample - loss: 0.0248\n"
          ]
        },
        {
          "output_type": "display_data",
          "data": {
            "text/plain": [
              "<Figure size 640x480 with 1 Axes>"
            ],
            "image/png": "[encoded data removed]"
          },
          "metadata": {}
        },
        {
          "output_type": "stream",
          "name": "stdout",
          "text": [
            "[0.10000426 0.10000426 0.         0.         0.         0.        ]\n",
            "Train on 5000 samples\n",
            "Epoch 1/10\n",
            "5000/5000 [==============================] - 0s 31us/sample - loss: 0.0248\n",
            "Epoch 2/10\n",
            "5000/5000 [==============================] - 0s 32us/sample - loss: 0.0248\n",
            "Epoch 3/10\n",
            "5000/5000 [==============================] - 0s 30us/sample - loss: 0.0248\n",
            "Epoch 4/10\n",
            "5000/5000 [==============================] - 0s 31us/sample - loss: 0.0248\n",
            "Epoch 5/10\n",
            "5000/5000 [==============================] - 0s 35us/sample - loss: 0.0248\n",
            "Epoch 6/10\n",
            "5000/5000 [==============================] - 0s 32us/sample - loss: 0.0248\n",
            "Epoch 7/10\n",
            "5000/5000 [==============================] - 0s 31us/sample - loss: 0.0248\n",
            "Epoch 8/10\n",
            "5000/5000 [==============================] - 0s 32us/sample - loss: 0.0248\n",
            "Epoch 9/10\n",
            "5000/5000 [==============================] - 0s 31us/sample - loss: 0.0248\n",
            "Epoch 10/10\n",
            "5000/5000 [==============================] - 0s 33us/sample - loss: 0.0248\n"
          ]
        },
        {
          "output_type": "display_data",
          "data": {
            "text/plain": [
              "<Figure size 640x480 with 1 Axes>"
            ],
            "image/png": "[encoded data removed]"
          },
          "metadata": {}
        },
        {
          "output_type": "stream",
          "name": "stdout",
          "text": [
            "[0.10000426 0.10000426 0.         0.         0.         0.        ]\n",
            "Train on 5000 samples\n",
            "Epoch 1/10\n",
            "5000/5000 [==============================] - 0s 50us/sample - loss: 0.0248\n",
            "Epoch 2/10\n",
            "5000/5000 [==============================] - 0s 56us/sample - loss: 0.0248\n",
            "Epoch 3/10\n",
            "5000/5000 [==============================] - 0s 55us/sample - loss: 0.0248\n",
            "Epoch 4/10\n",
            "5000/5000 [==============================] - 0s 55us/sample - loss: 0.0248\n",
            "Epoch 5/10\n",
            "5000/5000 [==============================] - 0s 55us/sample - loss: 0.0248\n",
            "Epoch 6/10\n",
            "5000/5000 [==============================] - 0s 50us/sample - loss: 0.0248\n",
            "Epoch 7/10\n",
            "5000/5000 [==============================] - 0s 55us/sample - loss: 0.0248\n",
            "Epoch 8/10\n",
            "5000/5000 [==============================] - 0s 56us/sample - loss: 0.0248\n",
            "Epoch 9/10\n",
            "5000/5000 [==============================] - 0s 56us/sample - loss: 0.0248\n",
            "Epoch 10/10\n",
            "5000/5000 [==============================] - 0s 30us/sample - loss: 0.0248\n"
          ]
        },
        {
          "output_type": "display_data",
          "data": {
            "text/plain": [
              "<Figure size 640x480 with 1 Axes>"
            ],
            "image/png": "[encoded data removed]"
          },
          "metadata": {}
        },
        {
          "output_type": "stream",
          "name": "stdout",
          "text": [
            "[0.10000426 0.10000426 0.         0.         0.         0.        ]\n",
            "Train on 5000 samples\n",
            "Epoch 1/10\n",
            "5000/5000 [==============================] - 0s 31us/sample - loss: 0.0248\n",
            "Epoch 2/10\n",
            "5000/5000 [==============================] - 0s 33us/sample - loss: 0.0248\n",
            "Epoch 3/10\n",
            "5000/5000 [==============================] - 0s 32us/sample - loss: 0.0248\n",
            "Epoch 4/10\n",
            "5000/5000 [==============================] - 0s 33us/sample - loss: 0.0248\n",
            "Epoch 5/10\n",
            "5000/5000 [==============================] - 0s 31us/sample - loss: 0.0248\n",
            "Epoch 6/10\n",
            "5000/5000 [==============================] - 0s 30us/sample - loss: 0.0248\n",
            "Epoch 7/10\n",
            "5000/5000 [==============================] - 0s 33us/sample - loss: 0.0248\n",
            "Epoch 8/10\n",
            "5000/5000 [==============================] - 0s 35us/sample - loss: 0.0248\n",
            "Epoch 9/10\n",
            "5000/5000 [==============================] - 0s 32us/sample - loss: 0.0248\n",
            "Epoch 10/10\n",
            "5000/5000 [==============================] - 0s 32us/sample - loss: 0.0248\n"
          ]
        },
        {
          "output_type": "display_data",
          "data": {
            "text/plain": [
              "<Figure size 640x480 with 1 Axes>"
            ],
            "image/png": "[encoded data removed]"
          },
          "metadata": {}
        },
        {
          "output_type": "stream",
          "name": "stdout",
          "text": [
            "[0.10000426 0.10000426 0.         0.         0.         0.        ]\n",
            "Train on 5000 samples\n",
            "Epoch 1/10\n",
            "5000/5000 [==============================] - 0s 30us/sample - loss: 0.0248\n",
            "Epoch 2/10\n",
            "5000/5000 [==============================] - 0s 35us/sample - loss: 0.0248\n",
            "Epoch 3/10\n",
            "5000/5000 [==============================] - 0s 99us/sample - loss: 0.0248\n",
            "Epoch 4/10\n",
            "5000/5000 [==============================] - 0s 39us/sample - loss: 0.0248\n",
            "Epoch 5/10\n",
            "5000/5000 [==============================] - 0s 31us/sample - loss: 0.0248\n",
            "Epoch 6/10\n",
            "5000/5000 [==============================] - 0s 34us/sample - loss: 0.0248\n",
            "Epoch 7/10\n",
            "5000/5000 [==============================] - 0s 32us/sample - loss: 0.0248\n",
            "Epoch 8/10\n",
            "5000/5000 [==============================] - 0s 31us/sample - loss: 0.0248\n",
            "Epoch 9/10\n",
            "5000/5000 [==============================] - 0s 32us/sample - loss: 0.0248\n",
            "Epoch 10/10\n",
            "5000/5000 [==============================] - 0s 33us/sample - loss: 0.0248\n"
          ]
        },
        {
          "output_type": "display_data",
          "data": {
            "text/plain": [
              "<Figure size 640x480 with 1 Axes>"
            ],
            "image/png": "[encoded data removed]"
          },
          "metadata": {}
        },
        {
          "output_type": "stream",
          "name": "stdout",
          "text": [
            "[0.10000426 0.10000426 0.         0.         0.         0.        ]\n",
            "Train on 5000 samples\n",
            "Epoch 1/10\n",
            "5000/5000 [==============================] - 0s 32us/sample - loss: 0.0248\n",
            "Epoch 2/10\n",
            "5000/5000 [==============================] - 0s 31us/sample - loss: 0.0248\n",
            "Epoch 3/10\n",
            "5000/5000 [==============================] - 0s 31us/sample - loss: 0.0248\n",
            "Epoch 4/10\n",
            "5000/5000 [==============================] - 0s 50us/sample - loss: 0.0248\n",
            "Epoch 5/10\n",
            "5000/5000 [==============================] - 0s 56us/sample - loss: 0.0248\n",
            "Epoch 6/10\n",
            "5000/5000 [==============================] - 0s 53us/sample - loss: 0.0248\n",
            "Epoch 7/10\n",
            "5000/5000 [==============================] - 0s 54us/sample - loss: 0.0248\n",
            "Epoch 8/10\n",
            "5000/5000 [==============================] - 0s 55us/sample - loss: 0.0248\n",
            "Epoch 9/10\n",
            "5000/5000 [==============================] - 0s 56us/sample - loss: 0.0248\n",
            "Epoch 10/10\n",
            "5000/5000 [==============================] - 0s 54us/sample - loss: 0.0248\n"
          ]
        },
        {
          "output_type": "display_data",
          "data": {
            "text/plain": [
              "<Figure size 640x480 with 1 Axes>"
            ],
            "image/png": "[encoded data removed]"
          },
          "metadata": {}
        },
        {
          "output_type": "stream",
          "name": "stdout",
          "text": [
            "[0.10000426 0.10000426 0.         0.         0.         0.        ]\n",
            "Train on 5000 samples\n",
            "Epoch 1/10\n",
            "5000/5000 [==============================] - 0s 32us/sample - loss: 0.0248\n",
            "Epoch 2/10\n",
            "5000/5000 [==============================] - 0s 31us/sample - loss: 0.0248\n",
            "Epoch 3/10\n",
            "5000/5000 [==============================] - 0s 32us/sample - loss: 0.0248\n",
            "Epoch 4/10\n",
            "5000/5000 [==============================] - 0s 34us/sample - loss: 0.0248\n",
            "Epoch 5/10\n",
            "5000/5000 [==============================] - 0s 36us/sample - loss: 0.0248\n",
            "Epoch 6/10\n",
            "5000/5000 [==============================] - 0s 31us/sample - loss: 0.0248\n",
            "Epoch 7/10\n",
            "5000/5000 [==============================] - 0s 33us/sample - loss: 0.0248\n",
            "Epoch 8/10\n",
            "5000/5000 [==============================] - 0s 33us/sample - loss: 0.0248\n",
            "Epoch 9/10\n",
            "5000/5000 [==============================] - 0s 32us/sample - loss: 0.0248\n",
            "Epoch 10/10\n",
            "5000/5000 [==============================] - 0s 34us/sample - loss: 0.0248\n"
          ]
        },
        {
          "output_type": "display_data",
          "data": {
            "text/plain": [
              "<Figure size 640x480 with 1 Axes>"
            ],
            "image/png": "[encoded data removed]"
          },
          "metadata": {}
        },
        {
          "output_type": "stream",
          "name": "stdout",
          "text": [
            "[0.10000426 0.10000426 0.         0.         0.         0.        ]\n",
            "Train on 5000 samples\n",
            "Epoch 1/10\n",
            "5000/5000 [==============================] - 0s 31us/sample - loss: 0.0248\n",
            "Epoch 2/10\n",
            "5000/5000 [==============================] - 0s 32us/sample - loss: 0.0248\n",
            "Epoch 3/10\n",
            "5000/5000 [==============================] - 0s 35us/sample - loss: 0.0248\n",
            "Epoch 4/10\n",
            "5000/5000 [==============================] - 0s 33us/sample - loss: 0.0248\n",
            "Epoch 5/10\n",
            "5000/5000 [==============================] - 0s 32us/sample - loss: 0.0248\n",
            "Epoch 6/10\n",
            "5000/5000 [==============================] - 0s 32us/sample - loss: 0.0248\n",
            "Epoch 7/10\n",
            "5000/5000 [==============================] - 0s 31us/sample - loss: 0.0248\n",
            "Epoch 8/10\n",
            "5000/5000 [==============================] - 0s 33us/sample - loss: 0.0248\n",
            "Epoch 9/10\n",
            "5000/5000 [==============================] - 0s 33us/sample - loss: 0.0248\n",
            "Epoch 10/10\n",
            "5000/5000 [==============================] - 0s 31us/sample - loss: 0.0248\n"
          ]
        },
        {
          "output_type": "display_data",
          "data": {
            "text/plain": [
              "<Figure size 640x480 with 1 Axes>"
            ],
            "image/png": "[encoded data removed]"
          },
          "metadata": {}
        },
        {
          "output_type": "stream",
          "name": "stdout",
          "text": [
            "[0.10000426 0.10000426 0.         0.         0.         0.        ]\n"
          ]
        }
      ]
    },
    {
      "cell_type": "code",
      "source": [
        "Ltest = 10**6\n",
        "\n",
        "xtest =([np.ones(Ltest)] + [np.zeros(Ltest) for key in keylist]+\n",
        "         [np.random.normal(0,1,Ltest) for i in range(N)]+\n",
        "         [np.ones(Ltest) for i in range(N)])\n",
        "\n",
        "ytest=np.zeros((Ltest,len(P.keys())))\n",
        "for i in range(Ltest):\n",
        "    for l in range(len(P.keys())):\n",
        "        key = keylist[l]\n",
        "        ytest[i,l]= P[key]"
      ],
      "metadata": {
        "id": "SUsLkn7CViS2"
      },
      "execution_count": 11,
      "outputs": []
    },
    {
      "cell_type": "code",
      "source": [
        "plt.hist(localvol_trainlocvol.predict(xtest)[:,:])\n",
        "plt.show()\n",
        "print('Calibrated values:', np.mean(localvol_trainlocvol.predict(xtest)[:,:],axis=0))\n",
        "print('Ground truth:', [P[key] for key in keylist])"
      ],
      "metadata": {
        "colab": {
          "base_uri": "https://localhost:8080/",
          "height": 479
        },
        "id": "pIMiK4-qVlb9",
        "outputId": "86956c56-a649-4772-def4-ab3975c17440"
      },
      "execution_count": 12,
      "outputs": [
        {
          "output_type": "display_data",
          "data": {
            "text/plain": [
              "<Figure size 640x480 with 1 Axes>"
            ],
            "image/png": "[encoded data removed]"
          },
          "metadata": {}
        },
        {
          "output_type": "stream",
          "name": "stdout",
          "text": [
            "Calibrated values: [0.10095835 0.10095835 0.         0.         0.         0.        ]\n",
            "Ground truth: [0.20042534, 0.23559685, 0.16312157, 0.20771958, 0.13154241, 0.18236567]\n"
          ]
        }
      ]
    },
    {
      "cell_type": "code",
      "source": [
        "P"
      ],
      "metadata": {
        "colab": {
          "base_uri": "https://localhost:8080/"
        },
        "id": "zp1L_guhVmy8",
        "outputId": "48011147-ef03-44e5-f267-11595d84ed5e"
      },
      "execution_count": 13,
      "outputs": [
        {
          "output_type": "execute_result",
          "data": {
            "text/plain": [
              "{(0.9, 0.5): 0.20042534,\n",
              " (0.9, 1.0): 0.23559685,\n",
              " (1.0, 0.5): 0.16312157,\n",
              " (1.0, 1.0): 0.20771958,\n",
              " (1.1, 0.5): 0.13154241,\n",
              " (1.1, 1.0): 0.18236567}"
            ]
          },
          "metadata": {},
          "execution_count": 13
        }
      ]
    },
    {
      "cell_type": "code",
      "source": [
        "#maturities = [0.1, 0.25, 0.5, 1.0]\n",
        "#strikes = [0.8, 0.9, 1.0, 1.1, 1.2]\n",
        "#for T in maturities:\n",
        "#    for K in strikes:\n",
        "#         P[(K,T)] = 1.0\n",
        "#Lgen = 10**6\n",
        "#keylist = P.keys()\n",
        "#xgen =([np.ones(Lgen)] + [np.zeros(Lgen) for key in keylist]+\n",
        "#       [np.random.normal(0,1,Lgen) for i in range(N)]+\n",
        "#       [np.ones(Lgen) for i in range(N)])\n",
        "#\n",
        "#ygen=np.mean(localvol_trainlocvol.predict(xgen)[:,:],axis=0)\n",
        "#for l in range(len(P.keys())):\n",
        "#    key = keylist[l]\n",
        "#    P[key] = ygen[1,l]"
      ],
      "metadata": {
        "id": "OFo8yGrWVqhN"
      },
      "execution_count": 14,
      "outputs": []
    }
  ]
}