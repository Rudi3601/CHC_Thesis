{
  "nbformat": 4,
  "nbformat_minor": 0,
  "metadata": {
    "colab": {
      "provenance": [],
      "authorship_tag": "ABX9TyM+w5SIteThFSCCjxmpw+1J",
      "include_colab_link": true
    },
    "kernelspec": {
      "name": "python3",
      "display_name": "Python 3"
    },
    "language_info": {
      "name": "python"
    }
  },
  "cells": [
    {
      "cell_type": "markdown",
      "metadata": {
        "id": "view-in-github",
        "colab_type": "text"
      },
      "source": [
        "<a href=\"https://colab.research.google.com/github/Rudi3601/CHC_Thesis/blob/main/DeepHedging(Exotic).ipynb\" target=\"_parent\"><img src=\"https://colab.research.google.com/assets/colab-badge.svg\" alt=\"Open In Colab\"/></a>"
      ]
    },
    {
      "cell_type": "markdown",
      "source": [
        "Libraries"
      ],
      "metadata": {
        "id": "c7SajzoChwaJ"
      }
    },
    {
      "cell_type": "code",
      "execution_count": null,
      "metadata": {
        "id": "gh_jEf9D9Eyz"
      },
      "outputs": [],
      "source": [
        "#%tensorflow_version 1.x\n",
        "import numpy as np\n",
        "import tensorflow as tf\n",
        "\n",
        "from keras.models import Sequential\n",
        "from keras.layers import Input, Dense, Conv2D, Concatenate, Dropout, Subtract, \\\n",
        "                        Flatten, MaxPooling2D, Multiply, Lambda, Add, Dot\n",
        "from keras.backend import constant\n",
        "from keras import optimizers\n",
        "\n",
        "#from keras.engine.topology import Layer\n",
        "from keras.models import Model\n",
        "from keras.layers import Input\n",
        "from keras import initializers\n",
        "from keras.constraints import max_norm\n",
        "import keras.backend as K\n",
        "\n",
        "import matplotlib.pyplot as plt\n",
        "\n",
        "import copy\n"
      ]
    },
    {
      "cell_type": "markdown",
      "source": [
        "Parameters for Look-back Options and price simulations based on GBM"
      ],
      "metadata": {
        "id": "HMwpiXBwh1zJ"
      }
    },
    {
      "cell_type": "code",
      "source": [
        "# Trajectories of the Black scholes model\n",
        "# Let it run to initialize the following parameters, the trajectories\n",
        "# are not needed afterwards\n",
        "\n",
        "N=100 # time disrectization\n",
        "S0=1 # initial value of the asset\n",
        "X0=1  # initial wealth\n",
        "T=1 # maturity\n",
        "sigma=0.2 # volatility in Black Scholes\n",
        "mu=0.1\n",
        "r=0.1\n",
        "gamma=0.0\n",
        "R=10**5 # number of Trajectories\n",
        "\n",
        "logS= np.zeros((N,R))\n",
        "logS[0,]=np.log(S0)*np.ones((1,R))\n",
        "\n",
        "for i in range(R):\n",
        "    for j in range(N-1):\n",
        "        increment = np.random.normal(mu*T/N-(sigma)**2*T/(2*N),sigma*np.sqrt(T)/np.sqrt(N))\n",
        "        logS[j+1,i] =logS[j,i]+increment\n",
        "\n",
        "S=np.exp(logS)\n",
        "print(S)\n",
        "\n",
        "strike = np.min(S)\n",
        "print(strike)"
      ],
      "metadata": {
        "colab": {
          "base_uri": "https://localhost:8080/"
        },
        "id": "YYLBXZcyd54N",
        "outputId": "d12fb088-ab24-4768-f1b2-a1016f2e1523"
      },
      "execution_count": null,
      "outputs": [
        {
          "output_type": "stream",
          "name": "stdout",
          "text": [
            "[[1.         1.         1.         ... 1.         1.         1.        ]\n",
            " [0.97821121 0.95451247 0.99595778 ... 1.01272415 1.01809086 0.96792736]\n",
            " [0.96911302 0.90312996 1.01555094 ... 1.01848541 1.03683806 0.94454526]\n",
            " ...\n",
            " [0.87697645 0.91632138 1.16535748 ... 1.06099098 0.92379616 1.42091679]\n",
            " [0.87085098 0.91198902 1.18907378 ... 1.07962874 0.91934239 1.38607776]\n",
            " [0.87985806 0.89756769 1.19752996 ... 1.07163938 0.91402949 1.38125292]]\n",
            "0.46914217141251763\n"
          ]
        }
      ]
    },
    {
      "cell_type": "markdown",
      "source": [
        "Price of look-back options"
      ],
      "metadata": {
        "id": "UD7QJ2TIiLZR"
      }
    },
    {
      "cell_type": "code",
      "source": [
        "import math\n",
        "from scipy.stats import norm\n",
        "\n",
        "def lookback_call_option(S, t, r, sigma, m):\n",
        "  tau = T - t\n",
        "  a1 = (math.log(S / m) + (r + (sigma**2)/2) * tau) / (sigma * tau)\n",
        "  a2 = a1 - sigma * math.sqrt(tau)\n",
        "  a3 = a1 - (2 * r * math.sqrt(T))/sigma\n",
        "\n",
        "  price = S * norm.cdf(a1) - m * math.exp(-r * tau) * norm.cdf(a2) - (S*(sigma**2)/(2*r))*(-norm.cdf(a1) - (math.exp(-r * tau) * math.exp(m / S)) * norm.cdf(-a3))\n",
        "\n",
        "  return price\n",
        "\n",
        "price_option = lookback_call_option(S0, 0, r, sigma, strike)"
      ],
      "metadata": {
        "id": "ZxgLdgt9iIJB"
      },
      "execution_count": null,
      "outputs": []
    },
    {
      "cell_type": "markdown",
      "source": [
        "Definition of Neural networks"
      ],
      "metadata": {
        "id": "SfA9r987jvd6"
      }
    },
    {
      "cell_type": "code",
      "source": [
        "#Definition of neural networks for heding strategies\n",
        "\n",
        "m = 1 # dimension of price\n",
        "d = 3 # number of layers in strategy\n",
        "n = 32  # nodes in the first but last layers\n",
        "\n",
        "# architecture is the same for all networks\n",
        "layers = []\n",
        "for j in range(N):\n",
        "    for i in range(d):\n",
        "        if i < d-1:\n",
        "            nodes = n\n",
        "            layer = Dense(nodes, activation='tanh',trainable=True,\n",
        "                      kernel_initializer=initializers.RandomNormal(0,1),#kernel_initializer='random_normal',\n",
        "                      bias_initializer='random_normal',\n",
        "                      name=str(i)+str(j))\n",
        "        else:\n",
        "            nodes = m\n",
        "            layer = Dense(nodes, activation='linear', trainable=True,\n",
        "                          kernel_initializer=initializers.RandomNormal(0,0.1),#kernel_initializer='random_normal',\n",
        "                          bias_initializer='random_normal',\n",
        "                          name=str(i)+str(j))\n",
        "        layers = layers + [layer]"
      ],
      "metadata": {
        "id": "CaB1jyKwjXFN"
      },
      "execution_count": null,
      "outputs": []
    },
    {
      "cell_type": "markdown",
      "source": [
        "Implementing the Loss Function"
      ],
      "metadata": {
        "id": "0OB79FRAifaK"
      }
    },
    {
      "cell_type": "code",
      "source": [
        "#Implementing the loss function\n",
        "# Inputs is the training set below, containing the price S0,\n",
        "#the initial hedging being 0, and the increments of the log price process\n",
        "price = Input(shape=(m,))\n",
        "hedge = Input(shape=(m,))\n",
        "hedgeeval = Input(shape=(m,))\n",
        "premium = Input(shape=(m,))\n",
        "\n",
        "inputs = [price]+[hedge]+[hedgeeval]+[premium]\n",
        "print(inputs)\n",
        "outputhelper=[]\n",
        "\n",
        "premium = Dense(m, activation='linear', trainable=True,\n",
        "                kernel_initializer=initializers.RandomNormal(0,1),#kernel_initializer='random_normal',\n",
        "                bias_initializer=initializers.RandomNormal(0,1))(premium)\n",
        "\n",
        "for j in range(N):\n",
        "    strategy = price\n",
        "    strategyeval=hedgeeval\n",
        "    for k in range(d):\n",
        "        strategy= layers[k+(j)*d](strategy) # strategy at j is the hedging strategy at j , i.e. the neural network g_j\n",
        "        strategyeval=layers[k+(j)*d](strategyeval)\n",
        "    incr = Input(shape=(m,))\n",
        "    logprice= Lambda(lambda x : K.log(x))(price)\n",
        "    logprice = Add()([logprice, incr])\n",
        "    pricenew=Lambda(lambda x : K.exp(x))(logprice)# creating the price at time j+1\n",
        "    priceincr=Subtract()([pricenew, price])\n",
        "    hedgenew = Multiply()([strategy, priceincr])\n",
        "    #mult = Lambda(lambda x : K.sum(x,axis=1))(mult) # this is only used for m > 1\n",
        "    hedge = Add()([hedge,hedgenew]) # building up the discretized stochastic integral\n",
        "    inputs = inputs + [incr]\n",
        "    outputhelper = outputhelper + [strategyeval]\n",
        "    price=pricenew\n",
        "payoff= Lambda(lambda x : 0.5*(K.abs(x-strike)+x-strike))(price)\n",
        "outputs = Subtract()([payoff,hedge])\n",
        "outputs = Subtract()([outputs,premium]) # payoff minus price minus hedge\n",
        "outputs= [outputs] + outputhelper +[premium]\n",
        "outputs = Concatenate()(outputs)\n",
        "\n",
        "model_hedge_strat = Model(inputs=inputs, outputs=outputs)"
      ],
      "metadata": {
        "id": "7EhE6glXid6Y",
        "colab": {
          "base_uri": "https://localhost:8080/"
        },
        "outputId": "8fa17953-9f64-401a-a905-52590bd7fb0b"
      },
      "execution_count": null,
      "outputs": [
        {
          "output_type": "stream",
          "name": "stdout",
          "text": [
            "[<KerasTensor: shape=(None, 1) dtype=float32 (created by layer 'input_137')>, <KerasTensor: shape=(None, 1) dtype=float32 (created by layer 'input_138')>, <KerasTensor: shape=(None, 1) dtype=float32 (created by layer 'input_139')>, <KerasTensor: shape=(None, 1) dtype=float32 (created by layer 'input_140')>]\n"
          ]
        }
      ]
    },
    {
      "cell_type": "code",
      "source": [
        "R=50 # reduction\n",
        "# architecture is the same for all networks\n",
        "layers_red = []\n",
        "for j in range(R):\n",
        "    for i in range(d):\n",
        "        if i < d-1:\n",
        "            nodes_red = n\n",
        "            layer_red = Dense(nodes_red, activation='tanh',trainable=True,\n",
        "                      kernel_initializer=initializers.RandomNormal(0,1),#kernel_initializer='random_normal',\n",
        "                      bias_initializer='random_normal',\n",
        "                      name=str(i)+str(j))\n",
        "        else:\n",
        "            nodes_red = m\n",
        "            layer_red = Dense(nodes_red, activation='linear', trainable=True,\n",
        "                          kernel_initializer=initializers.RandomNormal(0,0.1),#kernel_initializer='random_normal',\n",
        "                          bias_initializer='random_normal',\n",
        "                          name=str(i)+str(j))\n",
        "        layers_red = layers_red + [layer_red]\n",
        "\n",
        "for j in range(R,N):\n",
        "    for i in range(d):\n",
        "        if i < d-1:\n",
        "            nodes_red = n\n",
        "            layer_red = Dense(nodes_red, activation='tanh',trainable=False,\n",
        "                      kernel_initializer=initializers.RandomNormal(0,1),#kernel_initializer='random_normal',\n",
        "                      bias_initializer='random_normal',\n",
        "                      name=str(i)+str(j))\n",
        "        else:\n",
        "            nodes_red = m\n",
        "            layer_red = Dense(nodes_red, activation='linear', trainable=False,\n",
        "                          kernel_initializer=initializers.RandomNormal(0,0.1),#kernel_initializer='random_normal',\n",
        "                          bias_initializer='random_normal',\n",
        "                          name=str(i)+str(j))\n",
        "        layers_red = layers_red + [layer_red]"
      ],
      "metadata": {
        "id": "6ZDMSvqEYzUU"
      },
      "execution_count": null,
      "outputs": []
    },
    {
      "cell_type": "markdown",
      "source": [
        "Implementing Loss Function"
      ],
      "metadata": {
        "id": "hpO6DqQkY1cl"
      }
    },
    {
      "cell_type": "code",
      "source": [
        "#Implementing the loss function\n",
        "# Inputs is the training set below, containing the price S0,\n",
        "#the initial hedging being 0, and the increments of the log price process\n",
        "price_red = Input(shape=(m,))\n",
        "hedge_red = Input(shape=(m,))\n",
        "hedgeeval_red = Input(shape=(m,))\n",
        "premium_red = Input(shape=(m,))\n",
        "\n",
        "inputs_red = [price_red]+[hedge_red]+[hedgeeval_red]+[premium_red]\n",
        "outputhelper_red=[]\n",
        "\n",
        "premium_red = Dense(m, activation='linear', trainable=True,\n",
        "                kernel_initializer=initializers.RandomNormal(0,1),#kernel_initializer='random_normal',\n",
        "                bias_initializer=initializers.RandomNormal(0,1))(premium_red)\n",
        "\n",
        "for j in range(N):\n",
        "    strategy_red = price_red\n",
        "    strategyeval_red=hedgeeval_red\n",
        "    for k in range(d):\n",
        "        strategy_red= layers_red[k+(j)*d](strategy_red) # strategy at j is the hedging strategy at j , i.e. the neural network g_j\n",
        "        strategyeval_red=layers_red[k+(j)*d](strategyeval_red)\n",
        "    incr_red = Input(shape=(m,))\n",
        "    logprice_red= Lambda(lambda x : K.log(x))(price_red)\n",
        "    logprice_red = Add()([logprice_red, incr_red])\n",
        "    pricenew_red=Lambda(lambda x : K.exp(x))(logprice_red)# creating the price at time j+1\n",
        "    priceincr_red=Subtract()([pricenew_red, price_red])\n",
        "    hedgenew_red = Multiply()([strategy_red, priceincr_red])\n",
        "    #mult = Lambda(lambda x : K.sum(x,axis=1))(mult) # this is only used for m > 1\n",
        "    hedge_red = Add()([hedge_red,hedgenew_red]) # building up the discretized stochastic integral\n",
        "    inputs_red = inputs_red + [incr_red]\n",
        "    outputhelper_red = outputhelper_red + [strategyeval_red]\n",
        "    price_red=pricenew_red\n",
        "payoff_red= Lambda(lambda x : 0.5*(K.abs(x-strike)+x-strike))(price_red)\n",
        "outputs_red = Subtract()([payoff_red,hedge_red])\n",
        "outputs_red = Subtract()([outputs_red,premium_red]) # payoff minus price minus hedge\n",
        "outputs_red= [outputs_red] + outputhelper_red +[premium_red]\n",
        "outputs_red = Concatenate()(outputs_red)\n",
        "\n",
        "model_hedge_strat_red = Model(inputs=inputs_red, outputs=outputs_red)"
      ],
      "metadata": {
        "id": "SO_HY5IOY3Ur"
      },
      "execution_count": null,
      "outputs": []
    },
    {
      "cell_type": "code",
      "source": [
        "gamma = 1.0\n",
        "grid = [(i/N)**gamma*T for i in range(N+1)]\n",
        "\n",
        "Ktrain = 10**5\n",
        "initialprice = S0\n",
        "\n",
        "# xtrain consists of the price S0,\n",
        "#the initial hedging being 0, and the increments of the log price process\n",
        "xtrain = ([initialprice*np.ones((Ktrain,m))] +\n",
        "          [np.zeros((Ktrain,m))]+\n",
        "          [np.ones((Ktrain,m))] +\n",
        "          [price_option*np.ones((Ktrain,m))]+\n",
        "          [np.random.normal(-(sigma)**2/2*(grid[i+1]-grid[i]),sigma*np.sqrt(grid[i+1]-grid[i]),(Ktrain,m)) for i in range(N)])\n",
        "\n",
        "ytrain=np.zeros((Ktrain,1+N))"
      ],
      "metadata": {
        "id": "VDX80zhdY8_X"
      },
      "execution_count": null,
      "outputs": []
    },
    {
      "cell_type": "code",
      "source": [
        "N_red=100000\n",
        "xtrain_red=copy.deepcopy(xtrain)\n",
        "for i in range(R):\n",
        "    a = xtrain_red[4+i]\n",
        "    for k in range(int(Ktrain/N_red)):\n",
        "        for l in range(N_red):\n",
        "            a[k*N_red+l,:]=a[k*N_red,:]\n",
        "    xtrain_red[4+i]=a"
      ],
      "metadata": {
        "id": "fw8Hje6oY_MU"
      },
      "execution_count": null,
      "outputs": []
    },
    {
      "cell_type": "code",
      "source": [
        "#import keras\n",
        "from keras import losses\n",
        "def custom_loss(y_true,y_pred):\n",
        "    #return losses.mean_squared_error(y_true[0], y_pred[0])\n",
        "    z = y_pred[:,0]-y_true[:,0]\n",
        "    z=K.mean(K.square(z))\n",
        "    return z\n"
      ],
      "metadata": {
        "id": "azeqw7fpZA9m"
      },
      "execution_count": null,
      "outputs": []
    },
    {
      "cell_type": "code",
      "source": [
        "model_hedge_strat.compile(optimizer='adam',loss=custom_loss)\n",
        "model_hedge_strat_red.compile(optimizer='adam',loss=custom_loss)"
      ],
      "metadata": {
        "id": "kyDlinlIZChp"
      },
      "execution_count": null,
      "outputs": []
    },
    {
      "cell_type": "code",
      "source": [
        "import matplotlib.pyplot as plt\n",
        "\n",
        "for i in range(5):\n",
        "    model_hedge_strat.fit(x=xtrain,y=ytrain, epochs=1,verbose=True,batch_size=100)\n",
        "weights = model_hedge_strat.get_weights()\n",
        "model_hedge_strat_red.set_weights(weights)\n",
        "#for i in range(5):\n",
        "#    model_hedge_strat_red.fit(x=xtrain_red,y=ytrain, epochs=1,verbose=True,batch_size=10000)\n",
        "#weights = model_hedge_strat_red.get_weights()\n",
        "#model_hedge_strat.set_weights(weights)"
      ],
      "metadata": {
        "id": "pX6ovjOmZEJM",
        "colab": {
          "base_uri": "https://localhost:8080/"
        },
        "outputId": "727cca55-6cf9-4a28-9901-ddf5a95d8b3e"
      },
      "execution_count": null,
      "outputs": [
        {
          "output_type": "stream",
          "name": "stdout",
          "text": [
            "1000/1000 [==============================] - 121s 56ms/step - loss: 1.4651\n",
            "1000/1000 [==============================] - 56s 56ms/step - loss: 0.0768\n",
            "1000/1000 [==============================] - 56s 56ms/step - loss: 4.9775e-04\n",
            "1000/1000 [==============================] - 56s 56ms/step - loss: 6.8155e-06\n",
            "1000/1000 [==============================] - 55s 55ms/step - loss: 2.9637e-06\n"
          ]
        }
      ]
    },
    {
      "cell_type": "code",
      "source": [
        "a = model_hedge_strat.predict(xtrain)\n",
        "plt.hist(a[:,0])\n",
        "plt.show()\n",
        "print(np.std(a[:,0]))\n",
        "print(np.mean(a[:,N+1]))"
      ],
      "metadata": {
        "colab": {
          "base_uri": "https://localhost:8080/",
          "height": 481
        },
        "id": "nyFDOtpcZFoE",
        "outputId": "00428cb4-2083-4e07-f802-b4c9dcb14d8c"
      },
      "execution_count": null,
      "outputs": [
        {
          "output_type": "stream",
          "name": "stdout",
          "text": [
            "3125/3125 [==============================] - 52s 15ms/step\n"
          ]
        },
        {
          "output_type": "display_data",
          "data": {
            "text/plain": [
              "<Figure size 640x480 with 1 Axes>"
            ],
            "image/png": "[encoded data removed]"
          },
          "metadata": {}
        },
        {
          "output_type": "stream",
          "name": "stdout",
          "text": [
            "0.0014202839\n",
            "0.5308246\n"
          ]
        }
      ]
    },
    {
      "cell_type": "code",
      "source": [
        "Ktest=50\n",
        "xtest = ([initialprice*np.ones((Ktest,m))] +\n",
        "          [np.zeros((Ktest,m))]+\n",
        "          [0.5*np.ones((Ktest,m))+np.cumsum(np.ones((Ktest,m))*(1.5-0.5)/Ktest,axis=0)] +#change this if you go to higher dimensions\n",
        "          [price_option*np.ones((Ktest,m))]+\n",
        "          [np.random.normal(-(sigma)**2/2*(grid[i+1]-grid[i]),sigma*np.sqrt(grid[i+1]-grid[i]),(Ktest,m)) for i in range(N)])\n",
        "\n",
        "y=model_hedge_strat.predict(xtest)[:,10]\n",
        "print(y)"
      ],
      "metadata": {
        "id": "uDNRRdUEZHl_",
        "colab": {
          "base_uri": "https://localhost:8080/"
        },
        "outputId": "5ddce628-b9ad-45f6-f4a3-776c5e15c14a"
      },
      "execution_count": null,
      "outputs": [
        {
          "output_type": "stream",
          "name": "stdout",
          "text": [
            "2/2 [==============================] - 6s 26ms/step\n",
            "[0.9459044  0.95112544 0.95589435 0.9602582  0.96425796 0.967929\n",
            " 0.9713029  0.9744061  0.9772623  0.9798914  0.9823113  0.98453695\n",
            " 0.98658174 0.9884571  0.9901727  0.9917373  0.9931581  0.99444157\n",
            " 0.9955928  0.99661654 0.99751645 0.99829614 0.99895746 0.99950343\n",
            " 0.9999351  1.0002539  1.0004609  1.0005566  1.0005416  1.0004158\n",
            " 1.0001795  0.9998326  0.99937516 0.9988068  0.99812734 0.9973366\n",
            " 0.99643445 0.9954208  0.9942956  0.9930589  0.99171096 0.9902522\n",
            " 0.98868257 0.9870034  0.98521477 0.9833179  0.98131365 0.9792033\n",
            " 0.976988   0.9746695 ]\n"
          ]
        }
      ]
    },
    {
      "cell_type": "code",
      "source": [
        "import scipy.stats as scipy\n",
        "from scipy.stats import norm\n",
        "logincrements = xtrain[4:4+N]\n",
        "hedge = np.zeros(Ktrain)\n",
        "price = S0*np.ones((Ktrain,N))\n",
        "for k in range(N-1):\n",
        "    helper = logincrements[k][:,]\n",
        "    helper = helper.transpose()\n",
        "    price[:,k+1] = price[:,k]*np.exp(helper[:])\n",
        "    hedge[:] = hedge[:] + scipy.norm.cdf((np.log(price[:,k]/strike)+0.5*(T-grid[k+1])*sigma**2)/(np.sqrt(T-grid[k+1])*sigma))*(price[:,k+1]-price[:,k])\n",
        "hedge[:]= hedge[:]-0.5*(np.abs(price[:,N-1]-strike)+(price[:,N-1]-strike))+price\n",
        "plt.hist(hedge)\n",
        "plt.show()\n",
        "print(np.std(hedge))\n",
        "print(np.mean(hedge))"
      ],
      "metadata": {
        "id": "gFMpCIgOZJPC",
        "colab": {
          "base_uri": "https://localhost:8080/",
          "height": 207
        },
        "outputId": "46c4bc9d-10cc-4d34-a6db-f82aa90ea9f9"
      },
      "execution_count": null,
      "outputs": [
        {
          "output_type": "error",
          "ename": "ValueError",
          "evalue": "operands could not be broadcast together with shapes (100000,) (100000,100) ",
          "traceback": [
            "\u001b[0;31m---------------------------------------------------------------------------\u001b[0m",
            "\u001b[0;31mValueError\u001b[0m                                Traceback (most recent call last)",
            "\u001b[0;32m<ipython-input-52-86ff7e8062cf>\u001b[0m in \u001b[0;36m<cell line: 11>\u001b[0;34m()\u001b[0m\n\u001b[1;32m      9\u001b[0m     \u001b[0mprice\u001b[0m\u001b[0;34m[\u001b[0m\u001b[0;34m:\u001b[0m\u001b[0;34m,\u001b[0m\u001b[0mk\u001b[0m\u001b[0;34m+\u001b[0m\u001b[0;36m1\u001b[0m\u001b[0;34m]\u001b[0m \u001b[0;34m=\u001b[0m \u001b[0mprice\u001b[0m\u001b[0;34m[\u001b[0m\u001b[0;34m:\u001b[0m\u001b[0;34m,\u001b[0m\u001b[0mk\u001b[0m\u001b[0;34m]\u001b[0m\u001b[0;34m*\u001b[0m\u001b[0mnp\u001b[0m\u001b[0;34m.\u001b[0m\u001b[0mexp\u001b[0m\u001b[0;34m(\u001b[0m\u001b[0mhelper\u001b[0m\u001b[0;34m[\u001b[0m\u001b[0;34m:\u001b[0m\u001b[0;34m]\u001b[0m\u001b[0;34m)\u001b[0m\u001b[0;34m\u001b[0m\u001b[0;34m\u001b[0m\u001b[0m\n\u001b[1;32m     10\u001b[0m     \u001b[0mhedge\u001b[0m\u001b[0;34m[\u001b[0m\u001b[0;34m:\u001b[0m\u001b[0;34m]\u001b[0m \u001b[0;34m=\u001b[0m \u001b[0mhedge\u001b[0m\u001b[0;34m[\u001b[0m\u001b[0;34m:\u001b[0m\u001b[0;34m]\u001b[0m \u001b[0;34m+\u001b[0m \u001b[0mscipy\u001b[0m\u001b[0;34m.\u001b[0m\u001b[0mnorm\u001b[0m\u001b[0;34m.\u001b[0m\u001b[0mcdf\u001b[0m\u001b[0;34m(\u001b[0m\u001b[0;34m(\u001b[0m\u001b[0mnp\u001b[0m\u001b[0;34m.\u001b[0m\u001b[0mlog\u001b[0m\u001b[0;34m(\u001b[0m\u001b[0mprice\u001b[0m\u001b[0;34m[\u001b[0m\u001b[0;34m:\u001b[0m\u001b[0;34m,\u001b[0m\u001b[0mk\u001b[0m\u001b[0;34m]\u001b[0m\u001b[0;34m/\u001b[0m\u001b[0mstrike\u001b[0m\u001b[0;34m)\u001b[0m\u001b[0;34m+\u001b[0m\u001b[0;36m0.5\u001b[0m\u001b[0;34m*\u001b[0m\u001b[0;34m(\u001b[0m\u001b[0mT\u001b[0m\u001b[0;34m-\u001b[0m\u001b[0mgrid\u001b[0m\u001b[0;34m[\u001b[0m\u001b[0mk\u001b[0m\u001b[0;34m+\u001b[0m\u001b[0;36m1\u001b[0m\u001b[0;34m]\u001b[0m\u001b[0;34m)\u001b[0m\u001b[0;34m*\u001b[0m\u001b[0msigma\u001b[0m\u001b[0;34m**\u001b[0m\u001b[0;36m2\u001b[0m\u001b[0;34m)\u001b[0m\u001b[0;34m/\u001b[0m\u001b[0;34m(\u001b[0m\u001b[0mnp\u001b[0m\u001b[0;34m.\u001b[0m\u001b[0msqrt\u001b[0m\u001b[0;34m(\u001b[0m\u001b[0mT\u001b[0m\u001b[0;34m-\u001b[0m\u001b[0mgrid\u001b[0m\u001b[0;34m[\u001b[0m\u001b[0mk\u001b[0m\u001b[0;34m+\u001b[0m\u001b[0;36m1\u001b[0m\u001b[0;34m]\u001b[0m\u001b[0;34m)\u001b[0m\u001b[0;34m*\u001b[0m\u001b[0msigma\u001b[0m\u001b[0;34m)\u001b[0m\u001b[0;34m)\u001b[0m\u001b[0;34m*\u001b[0m\u001b[0;34m(\u001b[0m\u001b[0mprice\u001b[0m\u001b[0;34m[\u001b[0m\u001b[0;34m:\u001b[0m\u001b[0;34m,\u001b[0m\u001b[0mk\u001b[0m\u001b[0;34m+\u001b[0m\u001b[0;36m1\u001b[0m\u001b[0;34m]\u001b[0m\u001b[0;34m-\u001b[0m\u001b[0mprice\u001b[0m\u001b[0;34m[\u001b[0m\u001b[0;34m:\u001b[0m\u001b[0;34m,\u001b[0m\u001b[0mk\u001b[0m\u001b[0;34m]\u001b[0m\u001b[0;34m)\u001b[0m\u001b[0;34m\u001b[0m\u001b[0;34m\u001b[0m\u001b[0m\n\u001b[0;32m---> 11\u001b[0;31m \u001b[0mhedge\u001b[0m\u001b[0;34m[\u001b[0m\u001b[0;34m:\u001b[0m\u001b[0;34m]\u001b[0m\u001b[0;34m=\u001b[0m \u001b[0mhedge\u001b[0m\u001b[0;34m[\u001b[0m\u001b[0;34m:\u001b[0m\u001b[0;34m]\u001b[0m\u001b[0;34m-\u001b[0m\u001b[0;36m0.5\u001b[0m\u001b[0;34m*\u001b[0m\u001b[0;34m(\u001b[0m\u001b[0mnp\u001b[0m\u001b[0;34m.\u001b[0m\u001b[0mabs\u001b[0m\u001b[0;34m(\u001b[0m\u001b[0mprice\u001b[0m\u001b[0;34m[\u001b[0m\u001b[0;34m:\u001b[0m\u001b[0;34m,\u001b[0m\u001b[0mN\u001b[0m\u001b[0;34m-\u001b[0m\u001b[0;36m1\u001b[0m\u001b[0;34m]\u001b[0m\u001b[0;34m-\u001b[0m\u001b[0mstrike\u001b[0m\u001b[0;34m)\u001b[0m\u001b[0;34m+\u001b[0m\u001b[0;34m(\u001b[0m\u001b[0mprice\u001b[0m\u001b[0;34m[\u001b[0m\u001b[0;34m:\u001b[0m\u001b[0;34m,\u001b[0m\u001b[0mN\u001b[0m\u001b[0;34m-\u001b[0m\u001b[0;36m1\u001b[0m\u001b[0;34m]\u001b[0m\u001b[0;34m-\u001b[0m\u001b[0mstrike\u001b[0m\u001b[0;34m)\u001b[0m\u001b[0;34m)\u001b[0m\u001b[0;34m+\u001b[0m\u001b[0mprice\u001b[0m\u001b[0;34m\u001b[0m\u001b[0;34m\u001b[0m\u001b[0m\n\u001b[0m\u001b[1;32m     12\u001b[0m \u001b[0mplt\u001b[0m\u001b[0;34m.\u001b[0m\u001b[0mhist\u001b[0m\u001b[0;34m(\u001b[0m\u001b[0mhedge\u001b[0m\u001b[0;34m)\u001b[0m\u001b[0;34m\u001b[0m\u001b[0;34m\u001b[0m\u001b[0m\n\u001b[1;32m     13\u001b[0m \u001b[0mplt\u001b[0m\u001b[0;34m.\u001b[0m\u001b[0mshow\u001b[0m\u001b[0;34m(\u001b[0m\u001b[0;34m)\u001b[0m\u001b[0;34m\u001b[0m\u001b[0;34m\u001b[0m\u001b[0m\n",
            "\u001b[0;31mValueError\u001b[0m: operands could not be broadcast together with shapes (100000,) (100000,100) "
          ]
        }
      ]
    },
    {
      "cell_type": "code",
      "source": [
        "from scipy.stats import norm\n",
        "l =20\n",
        "s=np.linspace(0.5,1.5,Ktest)\n",
        "z=scipy.norm.cdf((np.log(s/strike)+0.5*(T-grid[l])*sigma**2)/(np.sqrt(T-grid[l])*sigma))\n",
        "#plt.plot(s,z)\n",
        "#plt.plot(s,y)\n",
        "y=model_hedge_strat.predict(xtest)[:,l]\n",
        "plt.plot(s,y,s,z)\n",
        "plt.show()"
      ],
      "metadata": {
        "id": "K-h3H04fZKkG",
        "colab": {
          "base_uri": "https://localhost:8080/",
          "height": 447
        },
        "outputId": "1932d8eb-bedc-4199-9ed3-8a7e4ab38c63"
      },
      "execution_count": null,
      "outputs": [
        {
          "output_type": "stream",
          "name": "stdout",
          "text": [
            "2/2 [==============================] - 0s 17ms/step\n"
          ]
        },
        {
          "output_type": "display_data",
          "data": {
            "text/plain": [
              "<Figure size 640x480 with 1 Axes>"
            ],
            "image/png": "[encoded data removed]"
          },
          "metadata": {}
        }
      ]
    }
  ]
}